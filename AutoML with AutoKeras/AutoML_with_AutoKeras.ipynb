{
 "cells": [
  {
   "cell_type": "markdown",
   "id": "coordinate-novelty",
   "metadata": {},
   "source": [
    "## AutoML with AutoKeras\n",
    "resource: [Jeff Heaton](https://github.com/jeffheaton/t81_558_deep_learning/blob/master/t81_558_class_14_01_automl.ipynb)"
   ]
  },
  {
   "cell_type": "code",
   "execution_count": null,
   "id": "sunset-judgment",
   "metadata": {},
   "outputs": [],
   "source": [
    "import tensorflow as tf\n",
    "import keras_preprocessing\n",
    "import nuumpy as np\n",
    "import os \n",
    "import glob\n",
    "import tqdm\n",
    "from PIL import Image"
   ]
  },
  {
   "cell_type": "code",
   "execution_count": null,
   "id": "molecular-birth",
   "metadata": {},
   "outputs": [],
   "source": [
    "!pip install autokeras"
   ]
  },
  {
   "cell_type": "code",
   "execution_count": null,
   "id": "third-toilet",
   "metadata": {},
   "outputs": [],
   "source": [
    "import autokeras"
   ]
  },
  {
   "cell_type": "markdown",
   "id": "spiritual-joint",
   "metadata": {},
   "source": [
    "#### Download and preprocess data"
   ]
  },
  {
   "cell_type": "code",
   "execution_count": null,
   "id": "sound-powell",
   "metadata": {},
   "outputs": [],
   "source": [
    "URL = 'https://github.com/jeffheaton/data-mirror/'\n",
    "DOWNLOAD_SOURCE = URL + 'releases/download/v1/paperclips.zip'\n",
    "DOWNLOAD_NAME = DOWNLOAD_SOURCE[DOWNLOAD_SOURCE.rfind('/')+1:]\n",
    "\n",
    "if COLAB:\n",
    "    PATH = '/content'\n",
    "else:\n",
    "    PATH = '/data'\n",
    "    \n",
    "EXTRACT_TARGET = os.path.join(PATH, 'clips')\n",
    "SOURCE = os.path.join(PATH, 'paperclips')\n",
    "\n",
    "!wget -O {os.path.join(PATH,DOWNLOAD_NAME)} {DOWNLOAD_SOURCE}\n",
    "!mkdir -p {SOURCE}\n",
    "!mkdir -p {TARGET}\n",
    "!mkdir -p {EXTRACT_TARGET}\n",
    "!unzip -o -j -d {SOURCE} {os.path.join(PATH, DOWNLOAD_NAME)} >/dev/null\n",
    "\n",
    "df_tain = pd.read_csv(os.path.join(SOURCE, 'train.csv'))\n",
    "df_train['filename'] = 'clips-' + df_train.id.astype(str) + '.jpg'\n",
    "\n",
    "df_train = df[0:1000]"
   ]
  },
  {
   "cell_type": "code",
   "execution_count": null,
   "id": "federal-entry",
   "metadata": {},
   "outputs": [],
   "source": [
    "IMG_SHAPE = (128, 128)\n",
    "\n",
    "def load_images(files, img_shape):\n",
    "    count = len(files)\n",
    "    x = np.zeros((count,) + img_shape + (3,))\n",
    "    i = 0\n",
    "    for file in tqdm.tqdm(files):\n",
    "        img = Image.open(file)\n",
    "        img = img.resize(img_shape)\n",
    "        img = np.array(img)\n",
    "        img = img/255.\n",
    "        x[i,:,:,:] = img\n",
    "        i+=1\n",
    "    return x\n",
    "\n",
    "images = [os.path.join(SOURCE, x) for x in df_train.filename]\n",
    "x = load_images(images, IMG_SHAPE)\n",
    "y = df.train.clip_count.values"
   ]
  },
  {
   "cell_type": "markdown",
   "id": "central-holiday",
   "metadata": {},
   "source": [
    "#### Train with AutoKeras"
   ]
  },
  {
   "cell_type": "code",
   "execution_count": null,
   "id": "racial-korea",
   "metadata": {},
   "outputs": [],
   "source": [
    "MAX_TRIALS = 2\n",
    "SEED = 42\n",
    "VAL_SPLIT = 0.1\n",
    "EPOCHS = 1000\n",
    "BATCH_SIZE = 32"
   ]
  },
  {
   "cell_type": "code",
   "execution_count": null,
   "id": "noticed-search",
   "metadata": {},
   "outputs": [],
   "source": [
    "auto_reg = autokeras.ImageRegressor(overwrite=True, max_trails=MAX_TRIALS, seed=42)\n",
    "\n",
    "auto_reg.fit(x, y, validation_split=VAL_SPLIT, batch_size=BATCH_SIZE, epochs=EPOCHS)\n",
    "\n",
    "print(auto_reg.evaluate(x, y))"
   ]
  },
  {
   "cell_type": "code",
   "execution_count": null,
   "id": "meaningful-lunch",
   "metadata": {},
   "outputs": [],
   "source": [
    "model = auto_reg.export_model()\n",
    "model.summary()"
   ]
  },
  {
   "cell_type": "markdown",
   "id": "noticed-league",
   "metadata": {},
   "source": [
    "#### export model"
   ]
  },
  {
   "cell_type": "code",
   "execution_count": null,
   "id": "matched-scholarship",
   "metadata": {},
   "outputs": [],
   "source": [
    "try:\n",
    "    model.save('model_autokeras', save_format='tf')\n",
    "except:\n",
    "    model.save('model_autokeras.h5')\n",
    "    \n",
    "loaded_model = keras.models.load_model('model_autokeras', custom_object=autokeras.CUSTOM_OBJECTS)\n",
    "\n",
    "print(loaded_model.evaluate(x, y))"
   ]
  }
 ],
 "metadata": {
  "kernelspec": {
   "display_name": "Python [conda env:tf3] *",
   "language": "python",
   "name": "conda-env-tf3-py"
  },
  "language_info": {
   "codemirror_mode": {
    "name": "ipython",
    "version": 3
   },
   "file_extension": ".py",
   "mimetype": "text/x-python",
   "name": "python",
   "nbconvert_exporter": "python",
   "pygments_lexer": "ipython3",
   "version": "3.8.8"
  }
 },
 "nbformat": 4,
 "nbformat_minor": 5
}
