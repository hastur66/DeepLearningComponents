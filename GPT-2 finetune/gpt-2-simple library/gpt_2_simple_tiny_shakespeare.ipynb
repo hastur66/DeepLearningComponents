{
  "nbformat": 4,
  "nbformat_minor": 0,
  "metadata": {
    "colab": {
      "provenance": [],
      "gpuType": "T4"
    },
    "kernelspec": {
      "name": "python3",
      "display_name": "Python 3"
    },
    "language_info": {
      "name": "python"
    },
    "accelerator": "GPU"
  },
  "cells": [
    {
      "cell_type": "code",
      "execution_count": 1,
      "metadata": {
        "id": "35sD3pwBOATO"
      },
      "outputs": [],
      "source": [
        "!pip install -q gpt-2-simple"
      ]
    },
    {
      "cell_type": "code",
      "source": [
        "import gpt_2_simple as gpt2\n",
        "import tensorflow as tf\n",
        "from datetime import datetime"
      ],
      "metadata": {
        "id": "8a6GIxUmPFJB"
      },
      "execution_count": 2,
      "outputs": []
    },
    {
      "cell_type": "code",
      "source": [
        "gpt2.download_gpt2(model_name=\"124M\")"
      ],
      "metadata": {
        "colab": {
          "base_uri": "https://localhost:8080/"
        },
        "id": "dP3CLC6ePads",
        "outputId": "c3b9b004-457e-4851-f74c-501c0995ce1d"
      },
      "execution_count": 3,
      "outputs": [
        {
          "output_type": "stream",
          "name": "stderr",
          "text": [
            "Fetching checkpoint: 1.05Mit [00:00, 470Mit/s]                                                      \n",
            "Fetching encoder.json: 1.05Mit [00:00, 4.06Mit/s]\n",
            "Fetching hparams.json: 1.05Mit [00:00, 4.68Git/s]                                                   \n",
            "Fetching model.ckpt.data-00000-of-00001: 498Mit [00:09, 52.1Mit/s]                                  \n",
            "Fetching model.ckpt.index: 1.05Mit [00:00, 2.94Git/s]                                               \n",
            "Fetching model.ckpt.meta: 1.05Mit [00:00, 5.02Mit/s]\n",
            "Fetching vocab.bpe: 1.05Mit [00:00, 6.77Mit/s]\n"
          ]
        }
      ]
    },
    {
      "cell_type": "code",
      "source": [
        "file_name = \"/content/Shakespeare.txt\""
      ],
      "metadata": {
        "id": "pK2nQdY0oaOB"
      },
      "execution_count": 4,
      "outputs": []
    },
    {
      "cell_type": "markdown",
      "source": [
        "## Train"
      ],
      "metadata": {
        "id": "JpmwWhVTuHdo"
      }
    },
    {
      "cell_type": "code",
      "source": [
        "new_sess = gpt2.start_tf_sess()"
      ],
      "metadata": {
        "id": "efAMskL3oe0h"
      },
      "execution_count": 6,
      "outputs": []
    },
    {
      "cell_type": "code",
      "source": [
        "gpt2.finetune(\n",
        "    new_sess,\n",
        "    dataset=file_name,\n",
        "    model_name='124M',\n",
        "    steps=100,\n",
        "    restore_from='fresh',\n",
        "    run_name='run1',\n",
        "    print_every=10,\n",
        "    sample_every=20,\n",
        "    save_every=50,\n",
        ")"
      ],
      "metadata": {
        "colab": {
          "base_uri": "https://localhost:8080/"
        },
        "id": "NDHdz2eqolkp",
        "outputId": "c212645f-ebfd-4d8d-e893-e7998a0ccd7c"
      },
      "execution_count": 7,
      "outputs": [
        {
          "output_type": "stream",
          "name": "stdout",
          "text": [
            "Loading checkpoint models/124M/model.ckpt\n",
            "Loading dataset...\n"
          ]
        },
        {
          "output_type": "stream",
          "name": "stderr",
          "text": [
            "100%|██████████| 1/1 [00:03<00:00,  3.96s/it]\n"
          ]
        },
        {
          "output_type": "stream",
          "name": "stdout",
          "text": [
            "dataset has 853464 tokens\n",
            "Training...\n",
            "[10 | 28.51] loss=2.98 avg=2.98\n",
            "[20 | 51.10] loss=2.93 avg=2.96\n",
            "======== SAMPLE 1 ========\n",
            " rap. I mean, his music was his business. How could I have been deceived? My heart was made so by the words he uttered.\n",
            "\n",
            "I told you this, O my God!\n",
            "\n",
            "\n",
            "'Tis a most dreadful time,\n",
            "\n",
            "Till I hear you say it. My heart is so sore\n",
            "I swear to God we had not slept\n",
            "If by the death-steed we had been still. The\n",
            "Twin-brothers\n",
            "O, thine eyes, and the tears,\n",
            "O my God!\n",
            "\n",
            "\n",
            "'Twere you all so silent,\n",
            "'Twere all so meanly. Here came the news,\n",
            "Why had it been said so?\n",
            "For I said so at every night 'Tis more\n",
            "A day's labour and less wear and tear\n",
            "Of the life. Why, I would not have\n",
            "Had gone out so hard\n",
            "On his own trumpet. Where was the world gone,\n",
            "I pray you, a man thus fair,\n",
            "A man more sweet and merciful?\n",
            "'Tis but a shame and shame to think\n",
            "There should arise so little blame\n",
            "With a man to do aught so\n",
            "Such a thing. There were as no\n",
            "Of such a world had as one so many eyes. But\n",
            "And this news, this change, this change!\n",
            "'Tis what I fear more\n",
            "I can be for ever, and more true. Why in this,\n",
            "Who doth that the most gentle face\n",
            "He has ever come and heard in\n",
            "The world? I fear it must be\n",
            "With him! He is an art thou might not\n",
            "As a great fellow, that never could,\n",
            "He doth look so cruel the eye of heaven.\n",
            "'There I did all these words; but\n",
            "The whole thought of you did not;\n",
            "There still did I see it but without the\n",
            "Breathing. Why did you not say it? What, is your love\n",
            "With me? And, by thy voice, 'Twere I\n",
            "Did say it, and had not heard it,\n",
            "That's how I felt with your words.\n",
            "I hear you that you are the most\n",
            "Courageous, and you that I have seen\n",
            "Of all the men that I know. Why shall it\n",
            "In your speech have such a power?\n",
            "Why, I was struck with the trueness!\n",
            "'Tis no cause for fear\n",
            "To cause you to lose so much. Why is\n",
            "And why did I stay so long so low?'\n",
            "\n",
            "\n",
            "'Tis as it was in the world, but from it\n",
            "Is it so easy, and easy! 'Twere a true word,\n",
            "And a true word to write,\n",
            "Ways you tell me!\n",
            "\n",
            "\n",
            "'He hath said these things,\n",
            "'O, in so much respect! Why, my dear\n",
            "Sight!\n",
            "'Tis the truth that's true.\n",
            "'Tis not but what makes it true and good!'\n",
            "\n",
            "\n",
            "'Tis a true word and a true word to write,\n",
            "Ways you tell me!'\n",
            "\n",
            "\n",
            "'Tis no man, nor is it so,\n",
            "Why, in so much respect!\n",
            "'Tis in the eye of the heaven,\n",
            "Ways you tell me!\n",
            "'Tis the truth, and truth!\n",
            "\n",
            "\n",
            "'Tis not so easily known?\n",
            "'Tis not to the eye of the heaven;\n",
            "'Tis it not so plain, nor as simple\n",
            "To hear, nor as easy to understand. 'Tis\n",
            "so true, that this will be more so\n",
            "As well as you know. 'Tis the truth, and true!'\n",
            "\n",
            "\n",
            "'Tis not the man and he must be 'Tis the man.\n",
            "'Tis not what you say, and what you do, but\n",
            "You must tell me; you must know how. So that you\n",
            "Will be as true and true as you could get. 'Tis the truth!\n",
            "'Tis not the man, and  \n",
            "Not his name, he himself is that.\n",
            "\n",
            "\n",
            "'Tis not how much I would know\n",
            "In your art nor by your speak how they mean you,\n",
            "In how much you can tell from this what is true.\n",
            "'Tis, and how much you can tell from this what is false\n",
            "\n",
            "\n",
            "'Tis a true word,\n",
            "and a true word no more than what you can't get,\n",
            "'Tis a true word and a true word,\n",
            "And then, by thy speech is not this the end,\n",
            "'Tis a false word and a false word;\n",
            "'Tis a false word and a true word, and a false word;\n",
            "'Tis                         ' ' ' ' \n",
            "\n",
            "\n",
            "'O, it is very true\n",
            "\n",
            "\n",
            "'Tis true, and true\n",
            "\n",
            "[30 | 86.61] loss=2.95 avg=2.95\n",
            "[40 | 109.17] loss=2.74 avg=2.90\n",
            "======== SAMPLE 1 ========\n",
            "O (1) a. A book of songs sung to music with the same rhyme and force. b. A large book. c. A volume of songs.\n",
            "\n",
            "Dict. I. If the Lord said so, do not\n",
            "'t sing this to the tunes.\n",
            "\n",
            "SOURCES OF MEMBERS\n",
            "\n",
            "A. The King, King of Great Britain.\n",
            "\n",
            "B. Queen of England.\n",
            "\n",
            "SOURCES OF MEMBERS\n",
            "\n",
            "1. A short list of the Queen's\n",
            "'laudes.\n",
            "\n",
            "SOURCES OF MEMBRIDGES\n",
            "\n",
            "A. King of Great Britain.\n",
            "\n",
            "B. King of Great Britain.\n",
            "\n",
            "C. Queen of England.\n",
            "\n",
            "D. Queen of New York.\n",
            "\n",
            "II. The two parties\n",
            "'t shall play the tunes for the tune\n",
            "'laught of the rest of the world.\n",
            "\n",
            "SOUSCRICT. What song would\n",
            "- 'I do sing' have he?\n",
            "\n",
            "PROPOSED FORCE. A tune\n",
            "of a king; or, in another\n",
            "like place, with the same words.\n",
            "\n",
            "II. I do sing it:\n",
            "'Here's where I do sing.\n",
            "  'A better song that I can sing would\n",
            "shew so well;\n",
            "let's dance as we do'; and,\n",
            "'I pray I'll make a more tune.\n",
            "   If thou didst sing it better,\n",
            "'tis true, it wouldn't sing.\n",
            "   A good song is one that, in the\n",
            "same moment, I'll sing;\n",
            "   if thou'r did, it'll sing;\n",
            "   I love not more; when I write.\n",
            "  CRITERIA. Let's dance as we do; \n",
            "   When we sing a tune better,\n",
            "   I'll make a better tune; or if we\n",
            "'t make it better, I'll make it better.\n",
            "   My song that I'll make better\n",
            "   Is what I'll sing, and the song I like,\n",
            "   O'd with better tunes it goes.\n",
            "  CUT.\n",
            "\n",
            "3.\n",
            "\n",
            "The king; and\n",
            "  KING HENRY. Ay,\n",
            "    In the King's room, in that\n",
            "   room\n",
            "   chamber.\n",
            "\n",
            "\n",
            "STORM. How is Sir Henry now,\n",
            "     Why would thou be, and so are\n",
            "    what I am said to be?\n",
            "  PRIPER. If thou be a good\n",
            "     person, thou shall sing best; if\n",
            "     thou is not, thou shall not play best,\n",
            "     thou cannot best; and if thou do\n",
            "     best, thou mayst best; if I am not, I\n",
            "     cannot best, and thou will not best.\n",
            "\n",
            "\n",
            "DISK. Thou wast so well.\n",
            "  KING HENRY. Ay, but a great one, sir\n",
            "     I may say; and the King's room\n",
            "     was too bright, so I went to\n",
            "     Sir Henry and, I believe, he and his\n",
            "     bed.\n",
            "  PRIPER. Good, sir.\n",
            "  KING HENRY (d. t. air). I was much better at\n",
            "     than thou did at that time.\n",
            "  EXE. But, so thou art so.\n",
            "  PRIPER. Nay, so thee knowest.\n",
            "                                                                                                                Enter\n",
            "  KING. Nay, and a new play\n",
            "                         DIVING OUT SONG.\n",
            "  PRIPER.\n",
            "  KING HENRY. Say no more. \n",
            "                                                      INT. BRIDGE-ROOM. WEDEN'S WORKS\n",
            "  PRIPER. I would never have been so great\n",
            "              \n",
            "\n",
            "[50 | 142.98] loss=3.05 avg=2.93\n",
            "Saving checkpoint/run1/model-50\n",
            "[60 | 168.46] loss=2.88 avg=2.92\n",
            "======== SAMPLE 1 ========\n",
            "  It is the day's work\n",
            "                  A merry, happy day. \n",
            "          A fair, happy day.   It's a short, poor day,\n",
            "                 Exeunt               Enter:\n",
            "           [The King] And, in triumph, bid\n",
            "              The Duke's father farewells.  \n",
            "            Exeunt           [Aside]  KING IS MACHINELLES, and is\n",
            "    present at the court.   [Aside] The Duke's father and\n",
            "                [Aside] The Duke's name is\n",
            "             Exepe.\n",
            "                                      Exit:\n",
            "\n",
            "                  Enter PRINCE\n",
            "  PRINCE LITTLE,\n",
            "  CANTY-  [Exeunt her]   \n",
            " PRINCE BROWN,\n",
            "  DANDO,\n",
            "  GARNEY-                       Enter DIESSANCE\n",
            "  DIESSANCE O'BEAUBROKE,\n",
            "  PESSINIUS,\n",
            "  SENFF,  GARNEY-                          Exit\n",
            "\n",
            "\n",
            "\n",
            "\n",
            "\n",
            "\n",
            "ACTIUS. The House of the Romans.  \n",
            "          Art thou so fearful as to yield an\n",
            "                 ?\n",
            "  A LITTLE. [Aside] This is our king!\n",
            "             Our King, our Lord of\n",
            "           [Aside] Our God, our Majesty.\n",
            "  LITTLE. Why shall we do this?  \n",
            "          [Aside] 'Tis our sovereigns self to die by\n",
            "              'Tis the King, our Prince, the King,\n",
            "  The Lord, and our Lord, the Lord of the\n",
            "          [Aside] Our King.\n",
            "              Exit              [Exit DIESSANCE]  \n",
            "         Exit.\n",
            "                    [Enter the DUTCHMEN]\n",
            "     Exit.\n",
            "    Enter SCENE III.\n",
            "                        Enter TANGLADES and ARIDES\n",
            "\n",
            "      Exit.\n",
            "    SCENE IV.\n",
            "                 Enter MACHINELLES and CHARLES. Exeunt them.\n",
            "\n",
            "        'Tis an action of all the people against their\n",
            "    oppressors. It is an action upon their country, and\n",
            "    it is an action upon all parts of them.\n",
            "    And so great are the objects of this action\n",
            "    that the great power of Rome has had no\n",
            "    object upon them.\n",
            "    And the people that do fight with them are their\n",
            "    oppressors, the gods and princes that give their\n",
            "      name. Therefore, do this not at all like the  \n",
            "    things that they do with us but to a greater extent!\n",
            "    And this is all true, for the people in whom\n",
            "    all this war is fought are their rulers, their\n",
            "    princes and their lords, and all the powers and\n",
            "    powers of our kingdom have been put to this action.\n",
            "    Then you know what we are by the common\n",
            "    power; and now we\n",
            "\n",
            "[70 | 201.77] loss=2.86 avg=2.91\n",
            "[80 | 224.30] loss=2.67 avg=2.88\n",
            "======== SAMPLE 1 ========\n",
            " on my neck?\n",
            "    If the best my mind can do,\n",
            "    I would have none to hold it\n",
            "    But the last breath that doth doth burn me out\n",
            "    In it. So I'll bear him here;\n",
            "    Then he'll be mine, but his son.\n",
            "                                    Exeunt\n",
            "\n",
            "\n",
            "\n",
            "\n",
            "SCENE II.\n",
            "A country house and a palace\n",
            "\n",
            "Enter the KING, MONTAGUE, ROGERS, and others\n",
            "  KING HENRY and others, bearing the   crown\n",
            "\n",
            "  KING HENRY. The land of Great Britain; with this most\n",
            "    My land I claim and give, and every man I\n",
            "    In it and the seas that I give for him.\n",
            "  ROSALIND. What will be of the kingdom?\n",
            "    What my ancestors did, that they might do,\n",
            "    And what I have done in my heart:\n",
            "    They have not been a part of our great land\n",
            "    And I do give my heart with my sword \n",
            "    And with my heart as we shall say\n",
            "    I will take their leave: what shall I give?\n",
            "    How shall I go about this and this?\n",
            "    What else shall I do than give these arms?\n",
            "    How shall I put these arms, but on my head\n",
            "    And put upon my hands?\n",
            "  ROSALIND. How now, my son of France?\n",
            "  KING HENRY. We have been too poor\n",
            "    In our youth to do not give him arms, but\n",
            "    Have put them on our hands and hoarded them\n",
            "    For our service. Let these arms be given;\n",
            "    And if there be not for others\n",
            "    To be put to some other name,\n",
            "    I shall not bear them in my heart\n",
            "    But on the top of my head, in my tongue,\n",
            "    And not for our sake nor for our love,\n",
            "    But for that of us whose duty and service\n",
            "    We can do in our kingdom.\n",
            "  KING HENRY. No, then, if you do not give me arms,\n",
            "    I'll never give them here, nor I in any\n",
            "    Will deny that there shall be a crown in London.  \n",
            "   \n",
            "                                                                    [O'er King Antony sits in the tent]\n",
            "    I have a warrant; I will go tell 'em what they\n",
            "    Call'd, with a warrant, of their king.\n",
            "  KING HENRY. Give me one hand, what is 'tis?\n",
            "    Give me my ear.\n",
            "\n",
            "   KING HENRY. They have a warrant;\n",
            "    They are the lords of the realm. Enter the KING, MONTAGUE, the\n",
            "  KING HENRY, the SECOND, and others\n",
            "\n",
            "  KING HENRY. A warrant, sir, for those three princes,\n",
            "    Who by the Grace of God have been all to them on\n",
            "    Their father's sword against his will;\n",
            "    A warrant for all these three of you\n",
            "    That to the court of his lords, let him be slain.\n",
            "                                                 [Hears KING HENRY'S arm]\n",
            "  KING HENRY. I will do; for they have given\n",
            "    Three to the King.\n",
            "  KING HENRY. Three?\n",
            "  KING HENRY. And three in that of Antony.\n",
            "  KING HENRY. Antony? The two of those of the two\n",
            "    They both have a warrant of the land unto yours.\n",
            "\n",
            "                               Enter CHOLESTONE and others\n",
            "\n",
            "                          \n",
            "\n",
            "[90 | 259.03] loss=2.76 avg=2.87\n",
            "[100 | 281.64] loss=2.73 avg=2.85\n",
            "Saving checkpoint/run1/model-100\n"
          ]
        },
        {
          "output_type": "stream",
          "name": "stderr",
          "text": [
            "WARNING:tensorflow:From /usr/local/lib/python3.10/dist-packages/tensorflow/python/training/saver.py:1067: remove_checkpoint (from tensorflow.python.checkpoint.checkpoint_management) is deprecated and will be removed in a future version.\n",
            "Instructions for updating:\n",
            "Use standard file APIs to delete files with this prefix.\n"
          ]
        }
      ]
    },
    {
      "cell_type": "markdown",
      "source": [
        "### Load model\n",
        "restart the VM first (Runtime -> Restart Runtime)"
      ],
      "metadata": {
        "id": "ZqlnGER2rhpq"
      }
    },
    {
      "cell_type": "code",
      "source": [
        "sess = gpt2.start_tf_sess()\n",
        "gpt2.load_gpt2(sess, run_name='run1')"
      ],
      "metadata": {
        "id": "ZCR4AmeXpbih"
      },
      "execution_count": null,
      "outputs": []
    },
    {
      "cell_type": "markdown",
      "source": [
        "## Generate text"
      ],
      "metadata": {
        "id": "4qucF9TuruKb"
      }
    },
    {
      "cell_type": "code",
      "source": [
        "gpt2.generate(new_sess, run_name='run1')"
      ],
      "metadata": {
        "colab": {
          "base_uri": "https://localhost:8080/"
        },
        "id": "YdJ1nraxsC-u",
        "outputId": "3676f8d6-84e8-4907-c14d-679c4d0e9f31"
      },
      "execution_count": 9,
      "outputs": [
        {
          "output_type": "stream",
          "name": "stdout",
          "text": [
            "THE MEN'S LADY.\n",
            "\n",
            "They are upon him; they are upon him;\n",
            "   \n",
            "                                                                                                                                                                                                 Exit\n",
            "\n",
            "\n",
            "\n",
            "\n",
            "SCENE VII.\n",
            "The Dauphin' House\n",
            "\n",
            "Enter a DUFFIN and two DUFFINs\n",
            "\n",
            "  DUFFIN.                                                                                                                                                   [To DUFIN]\n",
            "                                                                                                                          Exit DUFFIN\n",
            "\n",
            "  DUFFIN.                                                                                                                          [To DUFFIN]\n",
            "\n",
            "  DUFFIN.                                                                                                                                                                                                                                                                                                                               Exeunt DUFFIN\n",
            "\n",
            "                            \n"
          ]
        }
      ]
    },
    {
      "cell_type": "markdown",
      "source": [
        "Other optional-but-helpful parameters for `gpt2.generate` and friends:\n",
        "\n",
        "*  **`length`**: Number of tokens to generate (default 1023, the maximum)\n",
        "* **`temperature`**: The higher the temperature, the crazier the text (default 0.7, recommended to keep between 0.7 and 1.0)\n",
        "* **`top_k`**: Limits the generated guesses to the top *k* guesses (default 0 which disables the behavior; if the generated output is super crazy, you may want to set `top_k=40`)\n",
        "* **`top_p`**: Nucleus sampling: limits the generated guesses to a cumulative probability. (gets good results on a dataset with `top_p=0.9`)\n",
        "* **`truncate`**: Truncates the input text until a given sequence, excluding that sequence (e.g. if `truncate='<|endoftext|>'`, the returned text will include everything before the first `<|endoftext|>`). It may be useful to combine this with a smaller `length` if the input texts are short.\n",
        "*  **`include_prefix`**: If using `truncate` and `include_prefix=False`, the specified `prefix` will not be included in the returned text."
      ],
      "metadata": {
        "id": "7wnMSLNBsZK_"
      }
    },
    {
      "cell_type": "code",
      "source": [
        "gpt2.generate(new_sess,\n",
        "              length=250,\n",
        "              temperature=0.7,\n",
        "              prefix=\"LORD\",\n",
        "              nsamples=5,\n",
        "              batch_size=5\n",
        "              )"
      ],
      "metadata": {
        "colab": {
          "base_uri": "https://localhost:8080/"
        },
        "id": "AoL2JQtAsTTv",
        "outputId": "dcb47473-e945-44d5-904b-92813dd051c8"
      },
      "execution_count": 10,
      "outputs": [
        {
          "output_type": "stream",
          "name": "stdout",
          "text": [
            "LORD COLLEGE\n",
            "\n",
            "A Man of his Time Lord,\n",
            "\n",
            "Worthy Protector of the Most High,\n",
            "Worthy Protector of the Most Flourished,\n",
            "Worthy Protector of the Most High's High,\n",
            "Worthy Protector of the Most High's High's High,\n",
            "Worthy Protector of the Most High's Highest,\n",
            "Worthy Protector of the Most High's Highest's High,\n",
            "Worthy Protector of the Most High's Most High's High's High,\n",
            "Worthy Protector of the Most High's High's Most High's High's High's,\n",
            "Worthy Protector of the Most High's High's Most High's High's High's Hollow,\n",
            "Worthy Protector of the Most High's Hollow's Most High Hollow's Most High,\n",
            "Worthy Protector of the Most High's High's High's Hollow's Most High's Hollow,\n",
            "Worthy Protector of the Most High's High's Hollow's Most High's Hollow,\n",
            "Worthy Protector of the Most High's High's Hollow's Most High's Hollow's Hollow,\n",
            "Worthy Protector of the Most High's High's Hollow's Most High's Hollow's Hollow,\n",
            "Worthy Protector of the Most High's High's High's Hollow's Most High's\n",
            "====================\n",
            "LORD ROGERS. I know not how?\n",
            "                                                                                        Exit OF COLIN OF HUBERT.\n",
            "                              Exit                                                      Exit                                       Exeunt                  \n",
            "====================\n",
            "LORD: What?\n",
            "\n",
            "CHUCKINGHAM: There is no doubt,\n",
            "    The devil is not a Christian,\n",
            "    Even when he is a High God.\n",
            "                                                                                                      [He sees the devil begin to chase him]\n",
            "                                                   Exit CHUCKINGHAM and the CAPTAIN\n",
            "                                       \n",
            "====================\n",
            "LORD. You do.\n",
            "                                                                                                                    Exeunt\n",
            "                                                                                       Exeunt\n",
            "                                    \n",
            "====================\n",
            "LORD\n",
            "\n",
            "My lord, you should not then be too gracious.\n",
            "                              \n",
            "     You shall not be too gracious.\n",
            "                                                     \n",
            "                                          Exeunt\n",
            "\n",
            "SCENE II.\n",
            "London. A palace\n",
            "\n",
            "Enter the KING\n",
            "  KING. How now, Madam?\n",
            "                                                                    \n",
            "====================\n"
          ]
        }
      ]
    },
    {
      "cell_type": "code",
      "source": [
        "gpt2.generate(new_sess,\n",
        "              length=250,\n",
        "              temperature=0.7,\n",
        "              prefix=\"KING\",\n",
        "              nsamples=5,\n",
        "              batch_size=5\n",
        "              )"
      ],
      "metadata": {
        "colab": {
          "base_uri": "https://localhost:8080/"
        },
        "id": "ytYSutgXtX-5",
        "outputId": "a3b30953-5b66-4e75-9b4c-39917437597d"
      },
      "execution_count": 11,
      "outputs": [
        {
          "output_type": "stream",
          "name": "stdout",
          "text": [
            "KING                   [Trump and Cruz]\n",
            "                                                                                                                                                                                [Trump and Cruz]\n",
            "                                             \n",
            "====================\n",
            "KING. My faith, how w'er it be?\n",
            "  THE WESTMORELAND SENIOR. I pray you'll answer him.\n",
            "  KING. I have no mind to answer him.\n",
            "  WESTMORELAND SENIOR. I will answer him.\n",
            "                                                                                        Exeunt\n",
            "\n",
            "ACT_3|SC_1\n",
            "  KING. What's the report of your Highness?\n",
            "  WESTMORELAND SENIOR. My Highness, I know it is not true.\n",
            "                                                        \n",
            "====================\n",
            "KING'S MEMOIRS.\n",
            "    The devil is in the Senate, and it is\n",
            "    Will be the last of his till he be dead.\n",
            "    The devil is a part of the Senate, and\n",
            "    The Senate contains His reasons.\n",
            "  FREDERICK. I have seen him in his chambers\n",
            "    Standing in the Chamber of the Senate.\n",
            "  CANON. Have you ever heard a man speak so in his chamber?\n",
            "  FREDERICK. I have not.\n",
            "  CANON. You have heard him speak that in your chamber,\n",
            "    And that you have seen him speak?\n",
            "  FREDERICK. I have heard him speak that in my chamber.\n",
            "  CANON. Have you ever seen him speak so?\n",
            "  FREDERICK. I do know him.\n",
            "  CANON. Have you ever seen him speak so?\n",
            "  FREDERICK. I have not.\n",
            "  CANON. Have you ever seen him speak that in your chamber?\n",
            "  FREDERICK. I have not.\n",
            "  CANON. Have you ever seen him speak that in your chamber?\n",
            "====================\n",
            "KING,\n",
            "                                                                                                                         Exit\n",
            "                                 Exeunt\n",
            "                  Exit\n",
            "\n",
            "                              Exit\n",
            "                                        \n",
            "====================\n",
            "KING,\n",
            "                                                                               Exit SCENE 4\n",
            "\n",
            "\n",
            "SCENE 4.\n",
            "RICHMOND'S palace\n",
            "\n",
            "\n",
            "Enter ROSENBERG and CAESAR\n",
            "\n",
            "  ROSENBERG. I have made a court in the palace,\n",
            "    And I am for the King's sake.\n",
            "  CAESAR. What's your court,\n",
            "    My lord?\n",
            "  ROSENBERG. It's the court of your Highness\n",
            "    And I have sworn allegiance to your Highness.\n",
            "  CAESAR. Did you swear allegiance, my lord?\n",
            "  ROSENBERG. No, I did not swear allegiance.\n",
            "  CAESAR. Shall we hear this?\n",
            "  ROSENBERG. I am sworn to your Highness.\n",
            "  CAESAR. Why, now you\n",
            "====================\n"
          ]
        }
      ]
    },
    {
      "cell_type": "markdown",
      "source": [
        "#### Generate to a file"
      ],
      "metadata": {
        "id": "B6PH63uhtA81"
      }
    },
    {
      "cell_type": "code",
      "source": [
        "gen_file = 'gpt2_gentext_{:%Y%m%d_%H%M%S}.txt'.format(datetime.utcnow())\n",
        "\n",
        "gpt2.generate_to_file(sess,\n",
        "                      destination_path=gen_file,\n",
        "                      length=500,\n",
        "                      temperature=0.7,\n",
        "                      nsamples=100,\n",
        "                      batch_size=20\n",
        "                      )"
      ],
      "metadata": {
        "id": "HQ8QqPV2s0ye"
      },
      "execution_count": null,
      "outputs": []
    },
    {
      "cell_type": "markdown",
      "source": [
        "#### Generate for a API"
      ],
      "metadata": {
        "id": "iK_r0707t2gu"
      }
    },
    {
      "cell_type": "code",
      "source": [
        "text = gpt2.generate(sess, return_as_list=True)[0]"
      ],
      "metadata": {
        "id": "mnJchHO3tb8N"
      },
      "execution_count": null,
      "outputs": []
    }
  ]
}