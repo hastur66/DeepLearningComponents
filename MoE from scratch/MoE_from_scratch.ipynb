{
  "nbformat": 4,
  "nbformat_minor": 0,
  "metadata": {
    "colab": {
      "provenance": []
    },
    "kernelspec": {
      "name": "python3",
      "display_name": "Python 3"
    },
    "language_info": {
      "name": "python"
    }
  },
  "cells": [
    {
      "cell_type": "code",
      "execution_count": null,
      "metadata": {
        "id": "lVtp8o0zGBzx"
      },
      "outputs": [],
      "source": [
        "import torch\n",
        "import torch.nn as nn\n",
        "import torch.optim as optim"
      ]
    },
    {
      "cell_type": "code",
      "source": [
        "class Expert(nn.Module):\n",
        "  def __init__(self, input_dim, hidden_dim, output_dim):\n",
        "    super(Expert, self).__init__()\n",
        "    self.layer1 = nn.Linear(input_dim, hidden_dim)\n",
        "    self.layer2 = nn.Linear(hidden_dim, output_dim)\n",
        "\n",
        "  def forward(self, x):\n",
        "    x = torch.relu(self.layer1(x))\n",
        "    return torch.softmax(self.layer2(x), dim=-1)"
      ],
      "metadata": {
        "id": "a8ex0mdCGOsG"
      },
      "execution_count": null,
      "outputs": []
    },
    {
      "cell_type": "code",
      "source": [
        "class Gating(nn.Module):\n",
        "  def __init__(self, input_dim, num_experts, dropout_rate=0.1):\n",
        "    super(Gating, self).__init__()\n",
        "\n",
        "    self.layer1 = nn.Linear(input_dim, 128)\n",
        "    self.dropout1 = nn.Dropout(dropout_rate)\n",
        "\n",
        "    self.layer2 = nn.Linear(128, 256)\n",
        "    self.leaky_relu = nn.LeakyReLU()\n",
        "    self.dropout2 = nn.Dropout(dropout_rate)\n",
        "\n",
        "    self.layer3 = nn.Linear(256, 128)\n",
        "    self.leaky_relu = nn.LeakyReLU()\n",
        "    self.dropout3 = nn.Dropout(dropout_rate)\n",
        "\n",
        "    self.layer4 = nn.Linear(128, num_experts)\n",
        "\n",
        "  def forward(self, x):\n",
        "    x = torch.relu(self.layer1(x))\n",
        "    x = self.dropout1(x)\n",
        "\n",
        "    x = self.layer2(x)\n",
        "    x = self.leaky_relu(x)\n",
        "    x = self.dropout2(x)\n",
        "\n",
        "    x = self.layer3(x)\n",
        "    x = self.leaky_relu(x)\n",
        "    x = self.dropout3(x)\n",
        "\n",
        "    retun = torch.softmax(self.layer4(x), dim=1)"
      ],
      "metadata": {
        "id": "xMEfkUqsGxpX"
      },
      "execution_count": null,
      "outputs": []
    },
    {
      "cell_type": "code",
      "source": [
        "class MoE(nn.Module):\n",
        "  def __init__(self, trained_experts):\n",
        "    super(MoE, self).__init__()\n",
        "    self.experts = nn.ModuleList(trained_experts)\n",
        "\n",
        "    # Freeze experts while MoE is training\n",
        "    for expert in self.experts:\n",
        "      for param in expert.parameters():\n",
        "        param.requires_grad = False\n",
        "\n",
        "    num_experts = len(self.trained_experts)\n",
        "    # Assuming all experts have the same input dimension\n",
        "    input_dim = self.trained_experts[0].layer1.in_features\n",
        "    self.gating = Gating(input_dim, num_experts)\n",
        "\n",
        "  def forward(self, x):\n",
        "    weights = self.gating(x)\n",
        "\n",
        "    outputs = torch.stack([expert(x) for expert in self.experts], dim=2)\n",
        "\n",
        "    weights = weights.unsqueeze(1).expand_as(outputs)\n",
        "\n",
        "    return torch.sum(weights * outputs, dim=2)"
      ],
      "metadata": {
        "id": "z8npxpQjIUPD"
      },
      "execution_count": null,
      "outputs": []
    }
  ]
}