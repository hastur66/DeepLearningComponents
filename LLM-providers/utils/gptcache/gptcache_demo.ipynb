{
 "cells": [
  {
   "cell_type": "code",
   "execution_count": 1,
   "metadata": {},
   "outputs": [],
   "source": [
    "import openai\n",
    "import huggingface_hub as hf\n",
    "import gptcache\n",
    "\n",
    "from gptcache import cache\n",
    "from gptcache.adapter import openai\n",
    "from gptcache.embedding import Onnx\n",
    "from gptcache.manager import CacheBase, VectorBase, get_data_manager\n",
    "from gptcache.similarity_evaluation.distance import SearchDistanceEvaluation\n",
    "\n",
    "import time\n",
    "import os\n",
    "from dotenv import load_dotenv"
   ]
  },
  {
   "cell_type": "code",
   "execution_count": 2,
   "metadata": {},
   "outputs": [],
   "source": [
    "load_dotenv()\n",
    "cache.init()\n",
    "cache.set_openai_key()\n"
   ]
  },
  {
   "cell_type": "code",
   "execution_count": 3,
   "metadata": {},
   "outputs": [],
   "source": [
    "import time\n",
    "def response_text(openai_resp):\n",
    "    return openai_resp['choices'][0]['message']['content']\n",
    "\n",
    "\n",
    "def openai_request(question):\n",
    "    start_time = time.time()\n",
    "    response = openai.ChatCompletion.create(\n",
    "        model='gpt-3.5-turbo',\n",
    "        messages = [\n",
    "            {\n",
    "                'role': 'user',\n",
    "                'content': question\n",
    "            }\n",
    "        ],\n",
    "    )\n",
    "    return response, time.time() - start_time"
   ]
  },
  {
   "cell_type": "markdown",
   "metadata": {},
   "source": [
    "### OpenAI API original usage"
   ]
  },
  {
   "cell_type": "code",
   "execution_count": 4,
   "metadata": {},
   "outputs": [
    {
     "name": "stdout",
     "output_type": "stream",
     "text": [
      "Question: What is github?\n",
      "Time consuming: 8.398907s\n",
      "Answer: GitHub is a web-based platform that serves as a code hosting and version control system. It allows developers to collaborate on projects by providing a centralized repository where code can be stored, managed, and shared among team members. GitHub also provides features like issue tracking, wikis, and project management tools, making it widely popular among software developers and open-source communities.\n"
     ]
    }
   ],
   "source": [
    "question = 'What is github?'\n",
    "\n",
    "answer, duration = openai_request(question)\n",
    "\n",
    "print(f\"Question: {question}\")\n",
    "print(\"Time consuming: {:2f}s\".format(duration))\n",
    "print(f\"Answer: {response_text(answer)}\")"
   ]
  },
  {
   "cell_type": "markdown",
   "metadata": {},
   "source": [
    "### OpenAI API + GPTCache, exact match cache\n"
   ]
  },
  {
   "cell_type": "code",
   "execution_count": 5,
   "metadata": {},
   "outputs": [
    {
     "name": "stdout",
     "output_type": "stream",
     "text": [
      "Question: What is github?\n",
      "Time consuming: 7.013594s\n",
      "Answer: GitHub is a web-based platform that serves as a code hosting and version control system. It allows developers to collaborate on projects by providing a centralized repository where code can be stored, managed, and shared among team members. GitHub also provides features like issue tracking, wikis, and project management tools, making it widely popular among software developers and open-source communities.\n",
      "\n",
      "Question: What is github?\n",
      "Time consuming: 0.001194s\n",
      "Answer: GitHub is a web-based platform that serves as a code hosting and version control system. It allows developers to collaborate on projects by providing a centralized repository where code can be stored, managed, and shared among team members. GitHub also provides features like issue tracking, wikis, and project management tools, making it widely popular among software developers and open-source communities.\n",
      "\n"
     ]
    }
   ],
   "source": [
    "question = 'What is github?'\n",
    "\n",
    "for _ in range(2):\n",
    "    answer, duration = openai_request(question)\n",
    "\n",
    "    print(f\"Question: {question}\")\n",
    "    print(\"Time consuming: {:2f}s\".format(duration))\n",
    "    print(f\"Answer: {response_text(answer)}\\n\")"
   ]
  },
  {
   "cell_type": "markdown",
   "metadata": {},
   "source": [
    "### OpenAI API + GPTCache, similar search cache"
   ]
  },
  {
   "cell_type": "code",
   "execution_count": 6,
   "metadata": {},
   "outputs": [],
   "source": [
    "onnx = Onnx()\n",
    "data_manager = get_data_manager(CacheBase('sqlite'), VectorBase(\"faiss\", dimension=onnx.dimension))\n",
    "cache.init(\n",
    "    embedding_func=onnx.to_embeddings,\n",
    "    data_manager=data_manager,\n",
    "    similarity_evaluation=SearchDistanceEvaluation(),\n",
    ")\n",
    "cache.set_openai_key()"
   ]
  },
  {
   "cell_type": "code",
   "execution_count": 7,
   "metadata": {},
   "outputs": [
    {
     "name": "stdout",
     "output_type": "stream",
     "text": [
      "Question: what's github\n",
      "Time consuming: 11.965245s\n",
      "Answer: GitHub is a web-based platform used to store and manage code repositories. It provides version control functionality and collaboration features that allow multiple developers to work on a project simultaneously. GitHub is widely used by developers and organizations to host open-source projects, collaborate on software development, and manage their code repositories. It offers various features such as code review tools, issue tracking, project management, and continuous integration and deployment.\n",
      "\n",
      "Question: can you explain what GitHub is\n",
      "Time consuming: 5.202634s\n",
      "Answer: GitHub is a web-based platform used to store and manage code repositories. It provides version control functionality and collaboration features that allow multiple developers to work on a project simultaneously. GitHub is widely used by developers and organizations to host open-source projects, collaborate on software development, and manage their code repositories. It offers various features such as code review tools, issue tracking, project management, and continuous integration and deployment.\n",
      "\n",
      "Question: can you tell me more about GitHub\n",
      "Time consuming: 4.366332s\n",
      "Answer: GitHub is a web-based platform used to store and manage code repositories. It provides version control functionality and collaboration features that allow multiple developers to work on a project simultaneously. GitHub is widely used by developers and organizations to host open-source projects, collaborate on software development, and manage their code repositories. It offers various features such as code review tools, issue tracking, project management, and continuous integration and deployment.\n",
      "\n",
      "Question: what is the purpose of GitHub\n",
      "Time consuming: 5.501577s\n",
      "Answer: GitHub is a web-based platform used to store and manage code repositories. It provides version control functionality and collaboration features that allow multiple developers to work on a project simultaneously. GitHub is widely used by developers and organizations to host open-source projects, collaborate on software development, and manage their code repositories. It offers various features such as code review tools, issue tracking, project management, and continuous integration and deployment.\n",
      "\n"
     ]
    }
   ],
   "source": [
    "questions = [\n",
    "    \"what's github\",\n",
    "    \"can you explain what GitHub is\",\n",
    "    \"can you tell me more about GitHub\",\n",
    "    \"what is the purpose of GitHub\"\n",
    "]\n",
    "\n",
    "for question in questions:\n",
    "    answer, duration = openai_request(question)\n",
    "\n",
    "    print(f\"Question: {question}\")\n",
    "    print(\"Time consuming: {:2f}s\".format(duration))\n",
    "    print(f\"Answer: {response_text(answer)}\\n\")"
   ]
  },
  {
   "cell_type": "code",
   "execution_count": null,
   "metadata": {},
   "outputs": [],
   "source": []
  }
 ],
 "metadata": {
  "kernelspec": {
   "display_name": "tf3",
   "language": "python",
   "name": "python3"
  },
  "language_info": {
   "codemirror_mode": {
    "name": "ipython",
    "version": 3
   },
   "file_extension": ".py",
   "mimetype": "text/x-python",
   "name": "python",
   "nbconvert_exporter": "python",
   "pygments_lexer": "ipython3",
   "version": "3.8.8"
  },
  "orig_nbformat": 4
 },
 "nbformat": 4,
 "nbformat_minor": 2
}
