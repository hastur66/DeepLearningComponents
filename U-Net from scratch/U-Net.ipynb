{
 "cells": [
  {
   "cell_type": "code",
   "execution_count": 1,
   "metadata": {},
   "outputs": [],
   "source": [
    "from tensorflow.keras.models import Model\n",
    "from tensorflow.keras.layers import Input, Conv2D, MaxPooling2D, UpSampling2D, concatenate, Conv2DTranspose, BatchNormalization, Dropout, Lambda\n",
    "from tensorflow.keras import backend as K"
   ]
  },
  {
   "cell_type": "code",
   "execution_count": 5,
   "metadata": {},
   "outputs": [],
   "source": [
    "def multiclass_unet_architecture(n_classes=2, height=256, width=256, channels=3):\n",
    "    inputs = Input((height, width, channels))\n",
    "    \n",
    "    #contraction path\n",
    "    conv_1 = Conv2D(16, (3, 3), activation='relu', kernel_initializer='he_normal', padding='same')(inputs)\n",
    "    conv_1 = Dropout(0.1)(conv_1)\n",
    "    conv_1 = Conv2D(16, (3, 3), activation='relu', kernel_initializer='he_normal', padding='same')(conv_1)\n",
    "    pool_1 = MaxPooling2D((2, 2))(conv_1)\n",
    "    \n",
    "    conv_2 = Conv2D(32, (3, 3), activation='relu', kernel_initializer='he_normal', padding='same')(conv_1)\n",
    "    conv_2 = Dropout(0.1)(conv_2)\n",
    "    conv_2 = Conv2D(32, (3, 3), activation='relu', kernel_initializer='he_normal', padding='same')(conv_2)\n",
    "    pool_2 = MaxPooling2D((2, 2))(conv_2)\n",
    "    \n",
    "    \n",
    "    conv_3 = Conv2D(64, (3, 3), activation='relu', kernel_initializer='he_normal', padding='same')(conv_2)\n",
    "    conv_3 = Dropout(0.1)(conv_3)\n",
    "    conv_3 = Conv2D(64, (3, 3), activation='relu', kernel_initializer='he_normal', padding='same')(conv_3)\n",
    "    pool_3 = MaxPooling2D((2, 2))(conv_3)\n",
    "    \n",
    "    \n",
    "    conv_4 = Conv2D(128, (3, 3), activation='relu', kernel_initializer='he_normal', padding='same')(conv_3)\n",
    "    conv_4 = Dropout(0.1)(conv_4)\n",
    "    conv_4 = Conv2D(128, (3, 3), activation='relu', kernel_initializer='he_normal', padding='same')(conv_4)\n",
    "    pool_4 = MaxPooling2D((2, 2))(conv_4)\n",
    "    \n",
    "    \n",
    "    conv_5 = Conv2D(256, (3, 3), activation='relu', kernel_initializer='he_normal', padding='same')(conv_4)\n",
    "    conv_5 = Dropout(0.1)(conv_5)\n",
    "    conv_5 = Conv2D(256, (3, 3), activation='relu', kernel_initializer='he_normal', padding='same')(conv_5)\n",
    "    \n",
    "    #expansive path\n",
    "    u6 = Conv2DTranspose(128, (2, 2), strides=(2, 2), padding='same')(conv_5)\n",
    "    u6 = concatenate([u6, conv_4])\n",
    "    conv_6 = Conv2D(128, (3, 3), activation='relu', kernel_initializer='he_normal', padding='same')(u6)\n",
    "    conv_6 = Dropout(0.2)(conv_6)\n",
    "    conv_6 = Conv2D(128, (3, 3), activation='relu', kernel_initializer='he_normal', padding='same')(conv_6)\n",
    "    \n",
    "    u7 = Conv2DTranspose(64, (2, 2), strides=(2, 2), padding='same')(conv_6)\n",
    "    u7 = concatenate([u7, conv_3])\n",
    "    conv_7 = Conv2D(128, (3, 3), activation='relu', kernel_initializer='he_normal', padding='same')(u7)\n",
    "    conv_7 = Dropout(0.2)(conv_7)\n",
    "    conv_7 = Conv2D(128, (3, 3), activation='relu', kernel_initializer='he_normal', padding='same')(conv_7)\n",
    "    \n",
    "    u8 = Conv2DTranspose(32, (2, 2), strides=(2, 2), padding='same')(conv_7)\n",
    "    u8 = concatenate([u8, conv_2])\n",
    "    conv_8 = Conv2D(32, (3, 3), activation='relu', kernel_initializer='he_normal', padding='same')(u8)\n",
    "    conv_8 = Dropout(0.2)(conv_6)\n",
    "    conv_8 = Conv2D(32, (3, 3), activation='relu', kernel_initializer='he_normal', padding='same')(conv_8)\n",
    "    \n",
    "    u9 = Conv2DTranspose(16, (2, 2), strides=(2, 2), padding='same')(conv_8)\n",
    "    u9 = concatenate([u9, conv_8])\n",
    "    conv_9 = Conv2D(16, (3, 3), activation='relu', kernel_initializer='he_normal', padding='same')(u9)\n",
    "    conv_9 = Dropout(0.2)(conv_9)\n",
    "    conv_9 = Conv2D(16, (3, 3), activation='relu', kernel_initializer='he_normal', padding='same')(conv_9)\n",
    "    \n",
    "    outputs = Conv2D(n_classes, (1, 1), activation='softmax')(conv_9)\n",
    "    \n",
    "    model = Model(inputs=[inputs], outputs=[outputs])\n",
    "    model.summary()\n",
    "    return model"
   ]
  },
  {
   "cell_type": "code",
   "execution_count": 6,
   "metadata": {},
   "outputs": [],
   "source": [
    "def jaccard(y_true, y_pred):\n",
    "    y_true_c = K.flatten(y_true)\n",
    "    y_pred_c = K.flatten(y_pred)\n",
    "    intersection = K.sum(y_true_c * y_pred_c)\n",
    "    return (intersection + 1.0) / (K.sum(y_true_c) + K.sum(y_pred_c) - intersection + 1.0) \n",
    "\n",
    "def jaacard_loss(y_true, y_pred):\n",
    "    return -jacard(y_true, y_pred)"
   ]
  },
  {
   "cell_type": "code",
   "execution_count": null,
   "metadata": {},
   "outputs": [],
   "source": []
  }
 ],
 "metadata": {
  "kernelspec": {
   "display_name": "Python [conda env:tf]",
   "language": "python",
   "name": "conda-env-tf-py"
  },
  "language_info": {
   "codemirror_mode": {
    "name": "ipython",
    "version": 3
   },
   "file_extension": ".py",
   "mimetype": "text/x-python",
   "name": "python",
   "nbconvert_exporter": "python",
   "pygments_lexer": "ipython3",
   "version": "3.8.3"
  }
 },
 "nbformat": 4,
 "nbformat_minor": 4
}
