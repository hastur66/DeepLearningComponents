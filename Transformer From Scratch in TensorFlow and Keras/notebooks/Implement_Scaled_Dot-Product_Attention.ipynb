{
 "cells": [
  {
   "cell_type": "code",
   "execution_count": 1,
   "metadata": {},
   "outputs": [],
   "source": [
    "from tensorflow import matmul, math, cast, float32\n",
    "from tensorflow.keras.layers import Layer\n",
    "from tensorflow.keras.backend import softmax"
   ]
  },
  {
   "cell_type": "code",
   "execution_count": 2,
   "metadata": {},
   "outputs": [],
   "source": [
    "class DotProductAttention(Layer):\n",
    "    def __init__(self, **kwargs):\n",
    "        super(DotProductAttention, self).__init__(**kwargs)\n",
    "\n",
    "    def call(self, queries, keys, values, d_k, mask=None):\n",
    "        scores = matmul(queries, keys, transpose_b=True) / math.sqrt(cast(d_k, float32))\n",
    "\n",
    "        if mask is not None:\n",
    "            scores += -1e9 * mask\n",
    "        \n",
    "        weights = softmax(scores)\n",
    "\n",
    "        return matmul(weights, values)"
   ]
  },
  {
   "cell_type": "markdown",
   "metadata": {},
   "source": [
    "testing implementation"
   ]
  },
  {
   "cell_type": "code",
   "execution_count": 3,
   "metadata": {},
   "outputs": [
    {
     "name": "stdout",
     "output_type": "stream",
     "text": [
      "tf.Tensor(\n",
      "[[[0.404837   0.6081327  0.4263291  ... 0.5371667  0.607482   0.591229  ]\n",
      "  [0.40648323 0.60440564 0.41669473 ... 0.5330911  0.60841334 0.58539027]\n",
      "  [0.42123097 0.5900426  0.42422932 ... 0.55082476 0.599424   0.5745475 ]\n",
      "  [0.43376115 0.60014343 0.45548874 ... 0.5712822  0.5775714  0.57115483]\n",
      "  [0.40480608 0.589259   0.39576858 ... 0.53021646 0.6200434  0.57937914]]\n",
      "\n",
      " [[0.73453027 0.48621315 0.59504896 ... 0.5679474  0.5870134  0.5708886 ]\n",
      "  [0.72074604 0.49343777 0.58282137 ... 0.5863008  0.598035   0.5903868 ]\n",
      "  [0.7164197  0.49830198 0.56411326 ... 0.5707411  0.6160005  0.5771624 ]\n",
      "  [0.7267853  0.4943127  0.58252853 ... 0.58087105 0.5915294  0.57505494]\n",
      "  [0.72391635 0.49807006 0.57659745 ... 0.58670205 0.59035337 0.5738055 ]]\n",
      "\n",
      " [[0.34524274 0.40637815 0.5660924  ... 0.5997388  0.82626635 0.47036666]\n",
      "  [0.33530208 0.402887   0.56048715 ... 0.608022   0.81650347 0.47291195]\n",
      "  [0.3346155  0.3957529  0.5769265  ... 0.6215534  0.820185   0.48420572]\n",
      "  [0.35206616 0.4118525  0.564458   ... 0.59954023 0.82613534 0.47082067]\n",
      "  [0.32776025 0.40520763 0.5615083  ... 0.61106765 0.81997323 0.47875184]]\n",
      "\n",
      " ...\n",
      "\n",
      " [[0.67146325 0.46546954 0.6870984  ... 0.5829765  0.4379335  0.661146  ]\n",
      "  [0.6702143  0.46623087 0.67824644 ... 0.5806504  0.43665248 0.6549301 ]\n",
      "  [0.6719236  0.46444172 0.6826895  ... 0.58145344 0.43663672 0.6564467 ]\n",
      "  [0.67666847 0.45769072 0.67400056 ... 0.57022893 0.44506472 0.65514326]\n",
      "  [0.66764104 0.47344336 0.6876825  ... 0.5930123  0.45281985 0.63794714]]\n",
      "\n",
      " [[0.4782086  0.49433127 0.6628839  ... 0.5253919  0.66715217 0.62080586]\n",
      "  [0.49596557 0.5062025  0.66873586 ... 0.51406115 0.660053   0.60975045]\n",
      "  [0.48285764 0.5251576  0.64035225 ... 0.53778046 0.6605091  0.61652213]\n",
      "  [0.4782861  0.49841917 0.6598379  ... 0.5268422  0.66613346 0.62096214]\n",
      "  [0.48567382 0.49846733 0.6559413  ... 0.52197635 0.6616384  0.6182158 ]]\n",
      "\n",
      " [[0.5313608  0.56494844 0.57744646 ... 0.45417798 0.25670686 0.65688425]\n",
      "  [0.5489438  0.56054664 0.5738093  ... 0.46803907 0.26544473 0.6795336 ]\n",
      "  [0.56509084 0.536871   0.5630824  ... 0.46363503 0.29711765 0.69032174]\n",
      "  [0.5482172  0.5471732  0.5692177  ... 0.4673981  0.27426118 0.68624866]\n",
      "  [0.57054234 0.5506562  0.5807333  ... 0.46635464 0.282591   0.6958273 ]]], shape=(64, 5, 64), dtype=float32)\n"
     ]
    }
   ],
   "source": [
    "from turtle import back\n",
    "from numpy import random\n",
    "\n",
    "d_k = 64\n",
    "d_v = 64\n",
    "batch_size = 64\n",
    "input_seq_length = 5\n",
    "\n",
    "queries = random.random((batch_size, input_seq_length, d_k))\n",
    "keys = random.random((batch_size, input_seq_length, d_k))\n",
    "values = random.random((batch_size, input_seq_length, d_v))\n",
    "\n",
    "attention = DotProductAttention()\n",
    "print(attention(queries, keys, values, d_k))"
   ]
  },
  {
   "cell_type": "code",
   "execution_count": null,
   "metadata": {},
   "outputs": [],
   "source": []
  }
 ],
 "metadata": {
  "kernelspec": {
   "display_name": "Python 3.8.8 ('tf3')",
   "language": "python",
   "name": "python3"
  },
  "language_info": {
   "codemirror_mode": {
    "name": "ipython",
    "version": 3
   },
   "file_extension": ".py",
   "mimetype": "text/x-python",
   "name": "python",
   "nbconvert_exporter": "python",
   "pygments_lexer": "ipython3",
   "version": "3.8.8"
  },
  "orig_nbformat": 4,
  "vscode": {
   "interpreter": {
    "hash": "6f2fa255566ebbcad4e85de6bf8cd82c169bf6dd64ee855aab203ada2099ae43"
   }
  }
 },
 "nbformat": 4,
 "nbformat_minor": 2
}
