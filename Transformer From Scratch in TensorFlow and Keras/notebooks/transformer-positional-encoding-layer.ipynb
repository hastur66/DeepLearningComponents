{
 "cells": [
  {
   "cell_type": "code",
   "execution_count": 1,
   "metadata": {},
   "outputs": [],
   "source": [
    "import numpy as np\n",
    "import tensorflow as tf\n",
    "import matplotlib.pyplot as plt\n",
    "\n",
    "from tensorflow import convert_to_tensor, string\n",
    "from tensorflow.keras.layers import Embedding, Layer\n",
    "from tensorflow.keras.layers.experimental.preprocessing import TextVectorization\n",
    "from tensorflow.data import Dataset"
   ]
  },
  {
   "attachments": {},
   "cell_type": "markdown",
   "metadata": {},
   "source": [
    "### Text Vectorization Layer"
   ]
  },
  {
   "cell_type": "code",
   "execution_count": 2,
   "metadata": {},
   "outputs": [
    {
     "name": "stdout",
     "output_type": "stream",
     "text": [
      "Vocabulary:  ['', '[UNK]', 'robot', 'you', 'too', 'i', 'am', 'a']\n",
      "Vectorized words:  tf.Tensor(\n",
      "[[5 6 7 2 0]\n",
      " [3 4 2 0 0]], shape=(2, 5), dtype=int64)\n"
     ]
    }
   ],
   "source": [
    "output_sequence_length = 5\n",
    "vocab_size = 10\n",
    "sentences = [[\"I am a robot\"], [\"you too robot\"]]\n",
    "\n",
    "sentence_data = Dataset.from_tensor_slices(sentences)\n",
    "\n",
    "vectorize_layer = TextVectorization(\n",
    "                        output_sequence_length=output_sequence_length,\n",
    "                        max_tokens=vocab_size)\n",
    "\n",
    "vectorize_layer.adapt(sentence_data)\n",
    "\n",
    "word_tensors = convert_to_tensor(sentences)\n",
    "\n",
    "vectorized_words = vectorize_layer(word_tensors)\n",
    "\n",
    "print(\"Vocabulary: \", vectorize_layer.get_vocabulary())\n",
    "print(\"Vectorized words: \", vectorized_words)"
   ]
  },
  {
   "attachments": {},
   "cell_type": "markdown",
   "metadata": {},
   "source": [
    "### Embedding Layer"
   ]
  },
  {
   "attachments": {},
   "cell_type": "markdown",
   "metadata": {},
   "source": [
    "#### Word Embeddings"
   ]
  },
  {
   "cell_type": "code",
   "execution_count": 4,
   "metadata": {},
   "outputs": [
    {
     "name": "stdout",
     "output_type": "stream",
     "text": [
      "tf.Tensor(\n",
      "[[[-2.2709800e-02  7.3991716e-05  1.2004375e-03 -3.3338383e-02\n",
      "    3.3570137e-02 -3.0692721e-02]\n",
      "  [ 1.1562288e-02  8.1110224e-03 -1.9675314e-02  1.2360215e-02\n",
      "    2.5216762e-02  4.1295972e-02]\n",
      "  [ 4.8850503e-02 -3.5285272e-02 -3.9511837e-02  4.4409726e-02\n",
      "    2.3430180e-02 -2.0961821e-02]\n",
      "  [ 2.3876097e-02  4.6773423e-02  3.0796517e-02  2.7495030e-02\n",
      "    3.1869207e-02 -3.9111603e-02]\n",
      "  [ 1.4963333e-02 -2.0661091e-02  2.8732982e-02 -1.2907386e-03\n",
      "   -2.7615441e-02  2.2033084e-02]]\n",
      "\n",
      " [[ 2.3547914e-02  4.2404387e-02  4.4370774e-02  3.5137761e-02\n",
      "    3.9925840e-02  3.2779347e-02]\n",
      "  [-7.7018030e-03  3.1685282e-02  4.0368225e-02 -2.4305655e-02\n",
      "   -2.6375115e-02 -2.8096652e-02]\n",
      "  [ 2.3876097e-02  4.6773423e-02  3.0796517e-02  2.7495030e-02\n",
      "    3.1869207e-02 -3.9111603e-02]\n",
      "  [ 1.4963333e-02 -2.0661091e-02  2.8732982e-02 -1.2907386e-03\n",
      "   -2.7615441e-02  2.2033084e-02]\n",
      "  [ 1.4963333e-02 -2.0661091e-02  2.8732982e-02 -1.2907386e-03\n",
      "   -2.7615441e-02  2.2033084e-02]]], shape=(2, 5, 6), dtype=float32)\n"
     ]
    }
   ],
   "source": [
    "output_length = 6\n",
    "word_embedding_layer = Embedding(vocab_size, output_length)\n",
    "embedded_words = word_embedding_layer(vectorized_words)\n",
    "print(embedded_words)"
   ]
  },
  {
   "attachments": {},
   "cell_type": "markdown",
   "metadata": {},
   "source": [
    "#### Position Embeddings"
   ]
  },
  {
   "cell_type": "code",
   "execution_count": 5,
   "metadata": {},
   "outputs": [
    {
     "name": "stdout",
     "output_type": "stream",
     "text": [
      "tf.Tensor(\n",
      "[[ 0.04072081  0.04238545  0.02284885 -0.03385446  0.0172095  -0.04258019]\n",
      " [ 0.02490448  0.03718007 -0.00814165 -0.02315548  0.01430286  0.01544918]\n",
      " [-0.0438148   0.01301925 -0.02844257 -0.00640659  0.03179591 -0.00990184]\n",
      " [ 0.04335392  0.03916429  0.01661662 -0.00517063 -0.01082668 -0.03849602]\n",
      " [-0.02128458 -0.0290815   0.04195886 -0.02606821  0.0475733  -0.01049642]], shape=(5, 6), dtype=float32)\n"
     ]
    }
   ],
   "source": [
    "position_embedding_layer = Embedding(output_sequence_length, output_length)\n",
    "position_indices = tf.range(output_sequence_length)\n",
    "embedded_indices = position_embedding_layer(position_indices)\n",
    "print(embedded_indices)"
   ]
  },
  {
   "attachments": {},
   "cell_type": "markdown",
   "metadata": {},
   "source": [
    "#### The Output of Positional Encoding Layer in Transformers"
   ]
  },
  {
   "cell_type": "code",
   "execution_count": 6,
   "metadata": {},
   "outputs": [
    {
     "name": "stdout",
     "output_type": "stream",
     "text": [
      "Final output:  tf.Tensor(\n",
      "[[[ 0.01801101  0.04245944  0.02404929 -0.06719285  0.05077964\n",
      "   -0.07327291]\n",
      "  [ 0.03646677  0.04529109 -0.02781696 -0.01079526  0.03951962\n",
      "    0.05674515]\n",
      "  [ 0.0050357  -0.02226602 -0.06795441  0.03800313  0.05522609\n",
      "   -0.03086367]\n",
      "  [ 0.06723002  0.08593772  0.04741313  0.0223244   0.02104252\n",
      "   -0.07760762]\n",
      "  [-0.00632125 -0.04974259  0.07069184 -0.02735895  0.01995786\n",
      "    0.01153667]]\n",
      "\n",
      " [[ 0.06426872  0.08478983  0.06721962  0.0012833   0.05713534\n",
      "   -0.00980084]\n",
      "  [ 0.01720268  0.06886535  0.03222658 -0.04746113 -0.01207225\n",
      "   -0.01264747]\n",
      "  [-0.01993871  0.05979268  0.00235394  0.02108844  0.06366511\n",
      "   -0.04901345]\n",
      "  [ 0.05831725  0.0185032   0.0453496  -0.00646137 -0.03844213\n",
      "   -0.01646293]\n",
      "  [-0.00632125 -0.04974259  0.07069184 -0.02735895  0.01995786\n",
      "    0.01153667]]], shape=(2, 5, 6), dtype=float32)\n"
     ]
    }
   ],
   "source": [
    "final_output_embedding = embedded_words + embedded_indices\n",
    "print(\"Final output: \", final_output_embedding)"
   ]
  },
  {
   "attachments": {},
   "cell_type": "markdown",
   "metadata": {},
   "source": [
    "#### SubClassing the Keras Embedding Layer"
   ]
  },
  {
   "cell_type": "code",
   "execution_count": 10,
   "metadata": {},
   "outputs": [],
   "source": [
    "class PositionEmbeddingLayer(Layer):\n",
    "    def __init__(self, sequence_length, vocab_size, output_dim, **kwargs):\n",
    "        super(PositionEmbeddingLayer, self).__init__(**kwargs)\n",
    "        self.word_embedding_layer = Embedding(\n",
    "            input_dim=vocab_size, output_dim=output_dim\n",
    "        )\n",
    "        self.position_embedding_layer = Embedding(\n",
    "            input_dim=sequence_length, output_dim=output_dim\n",
    "        )\n",
    " \n",
    "    def call(self, inputs):        \n",
    "        position_indices = tf.range(tf.shape(inputs)[-1])\n",
    "        embedded_words = self.word_embedding_layer(inputs)\n",
    "        embedded_indices = self.position_embedding_layer(position_indices)\n",
    "        return embedded_words + embedded_indices"
   ]
  },
  {
   "cell_type": "code",
   "execution_count": 11,
   "metadata": {},
   "outputs": [
    {
     "name": "stdout",
     "output_type": "stream",
     "text": [
      "Output from embedding layer: \n",
      " tf.Tensor(\n",
      "[[[-0.03099144 -0.03334183 -0.02252484  0.01792964  0.02171982\n",
      "    0.00813805]\n",
      "  [ 0.00874976 -0.05589718  0.07297118 -0.05793859 -0.05448622\n",
      "    0.02991688]\n",
      "  [-0.04612732  0.04758479 -0.00519443  0.01070427  0.07347094\n",
      "    0.02730977]\n",
      "  [-0.03732092  0.04082855 -0.02245543  0.03420909  0.01204702\n",
      "    0.00934112]\n",
      "  [-0.07566234 -0.06573479 -0.01707051 -0.02702264 -0.03652549\n",
      "   -0.04757816]]\n",
      "\n",
      " [[-0.0694693   0.00729469  0.03736624  0.0162559   0.00793979\n",
      "   -0.00254906]\n",
      "  [-0.01780347 -0.02156453  0.05095952 -0.0123957  -0.07670801\n",
      "   -0.04612272]\n",
      "  [-0.0825747   0.03623879 -0.06975104  0.0246323   0.08904753\n",
      "    0.08095242]\n",
      "  [-0.03843009 -0.03212535 -0.01112472 -0.02432599 -0.059591\n",
      "   -0.03833229]\n",
      "  [-0.07566234 -0.06573479 -0.01707051 -0.02702264 -0.03652549\n",
      "   -0.04757816]]], shape=(2, 5, 6), dtype=float32)\n"
     ]
    }
   ],
   "source": [
    "my_embedding_layer = PositionEmbeddingLayer(output_sequence_length, vocab_size, output_length)\n",
    "embedded_layer_output = my_embedding_layer(vectorized_words)\n",
    "print(\"Output from embedding layer: \\n\", embedded_layer_output)"
   ]
  },
  {
   "attachments": {},
   "cell_type": "markdown",
   "metadata": {},
   "source": [
    "### Position Embeddings in Transformers"
   ]
  },
  {
   "cell_type": "code",
   "execution_count": 12,
   "metadata": {},
   "outputs": [],
   "source": [
    "class PositionEmbeddingFixedWeights(Layer):\n",
    "    def __init__(self, sequence_length, vocab_size, output_dim, **kwargs):\n",
    "        super(PositionEmbeddingFixedWeights, self).__init__(**kwargs)\n",
    "        word_embedding_matrix = self.get_position_encoding(vocab_size, output_dim)   \n",
    "        position_embedding_matrix = self.get_position_encoding(sequence_length, output_dim)                                          \n",
    "        self.word_embedding_layer = Embedding(\n",
    "            input_dim=vocab_size, output_dim=output_dim,\n",
    "            weights=[word_embedding_matrix],\n",
    "            trainable=False\n",
    "        )\n",
    "        self.position_embedding_layer = Embedding(\n",
    "            input_dim=sequence_length, output_dim=output_dim,\n",
    "            weights=[position_embedding_matrix],\n",
    "            trainable=False\n",
    "        )\n",
    "             \n",
    "    def get_position_encoding(self, seq_len, d, n=10000):\n",
    "        P = np.zeros((seq_len, d))\n",
    "        for k in range(seq_len):\n",
    "            for i in np.arange(int(d/2)):\n",
    "                denominator = np.power(n, 2*i/d)\n",
    "                P[k, 2*i] = np.sin(k/denominator)\n",
    "                P[k, 2*i+1] = np.cos(k/denominator)\n",
    "        return P\n",
    "\n",
    "\n",
    "    def call(self, inputs):        \n",
    "        position_indices = tf.range(tf.shape(inputs)[-1])\n",
    "        embedded_words = self.word_embedding_layer(inputs)\n",
    "        embedded_indices = self.position_embedding_layer(position_indices)\n",
    "        return embedded_words + embedded_indices"
   ]
  },
  {
   "cell_type": "code",
   "execution_count": 13,
   "metadata": {},
   "outputs": [
    {
     "name": "stdout",
     "output_type": "stream",
     "text": [
      "Output from my_embedded_layer:  tf.Tensor(\n",
      "[[[-0.9589243   1.2836622   0.23000172  1.9731903   0.01077196\n",
      "    1.9999421 ]\n",
      "  [ 0.56205547  1.5004725   0.3213085   1.9603932   0.01508068\n",
      "    1.9999142 ]\n",
      "  [ 1.566284    0.3377554   0.41192317  1.9433732   0.01938933\n",
      "    1.999877  ]\n",
      "  [ 1.0504174  -1.4061394   0.2314966   1.9860148   0.01077211\n",
      "    1.9999698 ]\n",
      "  [-0.7568025   0.3463564   0.18459873  1.982814    0.00861763\n",
      "    1.9999628 ]]\n",
      "\n",
      " [[ 0.14112     0.0100075   0.1387981   1.9903207   0.00646326\n",
      "    1.9999791 ]\n",
      "  [ 0.08466846 -0.11334133  0.23099795  1.9817369   0.01077207\n",
      "    1.9999605 ]\n",
      "  [ 1.8185948  -0.8322937   0.185397    1.9913884   0.00861771\n",
      "    1.9999814 ]\n",
      "  [ 0.14112     0.0100075   0.1387981   1.9903207   0.00646326\n",
      "    1.9999791 ]\n",
      "  [-0.7568025   0.3463564   0.18459873  1.982814    0.00861763\n",
      "    1.9999628 ]]], shape=(2, 5, 6), dtype=float32)\n"
     ]
    }
   ],
   "source": [
    "attnisallyouneed_embedding = PositionEmbeddingFixedWeights(output_sequence_length,\n",
    "                                            vocab_size, output_length)\n",
    "attnisallyouneed_output = attnisallyouneed_embedding(vectorized_words)\n",
    "print(\"Output from my_embedded_layer: \", attnisallyouneed_output)"
   ]
  },
  {
   "attachments": {},
   "cell_type": "markdown",
   "metadata": {},
   "source": [
    "### Visualizing the Final Embedding"
   ]
  },
  {
   "cell_type": "code",
   "execution_count": 14,
   "metadata": {},
   "outputs": [],
   "source": [
    "technical_phrase = \"to understand machine learning algorithms you need\" +\\\n",
    "                   \" to understand concepts such as gradient of a function \"+\\\n",
    "                   \"Hessians of a matrix and optimization etc\"\n",
    "wise_phrase = \"patrick henry said give me liberty or give me death \"+\\\n",
    "              \"when he addressed the second virginia convention in march\"\n",
    " \n",
    "total_vocabulary = 200\n",
    "sequence_length = 20\n",
    "final_output_len = 50\n",
    "phrase_vectorization_layer = TextVectorization(\n",
    "                  output_sequence_length=sequence_length,\n",
    "                  max_tokens=total_vocabulary)\n",
    "# Learn the dictionary\n",
    "phrase_vectorization_layer.adapt([technical_phrase, wise_phrase])\n",
    "# Convert all sentences to tensors\n",
    "phrase_tensors = convert_to_tensor([technical_phrase, wise_phrase], \n",
    "                                   dtype=tf.string)\n",
    "# Use the word tensors to get vectorized phrases\n",
    "vectorized_phrases = phrase_vectorization_layer(phrase_tensors)\n",
    " \n",
    "random_weights_embedding_layer = PositionEmbeddingLayer(sequence_length, \n",
    "                                                        total_vocabulary,\n",
    "                                                        final_output_len)\n",
    "fixed_weights_embedding_layer = PositionEmbeddingFixedWeights(sequence_length, \n",
    "                                                        total_vocabulary,\n",
    "                                                        final_output_len)\n",
    "random_embedding = random_weights_embedding_layer(vectorized_phrases)\n",
    "fixed_embedding = fixed_weights_embedding_layer(vectorized_phrases)"
   ]
  },
  {
   "cell_type": "code",
   "execution_count": 15,
   "metadata": {},
   "outputs": [
    {
     "data": {
      "image/png": "[encoded data removed]",
      "text/plain": [
       "<Figure size 1080x360 with 4 Axes>"
      ]
     },
     "metadata": {
      "needs_background": "light"
     },
     "output_type": "display_data"
    }
   ],
   "source": [
    "fig = plt.figure(figsize=(15, 5))    \n",
    "title = [\"Tech Phrase\", \"Wise Phrase\"]\n",
    "for i in range(2):\n",
    "    ax = plt.subplot(1, 2, 1+i)\n",
    "    matrix = tf.reshape(random_embedding[i, :, :], (sequence_length, final_output_len))\n",
    "    cax = ax.matshow(matrix)\n",
    "    plt.gcf().colorbar(cax)   \n",
    "    plt.title(title[i], y=1.2)\n",
    "fig.suptitle(\"Random Embedding\")\n",
    "plt.show()"
   ]
  },
  {
   "cell_type": "code",
   "execution_count": 16,
   "metadata": {},
   "outputs": [
    {
     "data": {
      "image/png": "[encoded data removed]",
      "text/plain": [
       "<Figure size 432x288 with 4 Axes>"
      ]
     },
     "metadata": {
      "needs_background": "light"
     },
     "output_type": "display_data"
    }
   ],
   "source": [
    "title = [\"Tech Phrase\", \"Wise Phrase\"]\n",
    "for i in range(2):\n",
    "    ax = plt.subplot(1, 2, 1+i)\n",
    "    matrix = tf.reshape(fixed_embedding[i, :, :], (sequence_length, final_output_len))\n",
    "    cax = ax.matshow(matrix)\n",
    "    plt.gcf().colorbar(cax)   \n",
    "    plt.title(title[i], y=1.2)\n",
    "fig.suptitle(\"Fixed Weight Embedding from Attention is All You Need\")\n",
    "plt.show()"
   ]
  },
  {
   "cell_type": "code",
   "execution_count": null,
   "metadata": {},
   "outputs": [],
   "source": []
  }
 ],
 "metadata": {
  "kernelspec": {
   "display_name": "tf3",
   "language": "python",
   "name": "python3"
  },
  "language_info": {
   "codemirror_mode": {
    "name": "ipython",
    "version": 3
   },
   "file_extension": ".py",
   "mimetype": "text/x-python",
   "name": "python",
   "nbconvert_exporter": "python",
   "pygments_lexer": "ipython3",
   "version": "3.8.8"
  },
  "orig_nbformat": 4
 },
 "nbformat": 4,
 "nbformat_minor": 2
}
