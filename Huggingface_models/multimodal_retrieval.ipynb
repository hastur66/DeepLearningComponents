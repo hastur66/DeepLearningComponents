{
  "nbformat": 4,
  "nbformat_minor": 0,
  "metadata": {
    "colab": {
      "provenance": []
    },
    "kernelspec": {
      "name": "python3",
      "display_name": "Python 3"
    },
    "language_info": {
      "name": "python"
    },
    "widgets": {
      "application/vnd.jupyter.widget-state+json": {
        "fd3f6095e253440084df50bbe75516af": {
          "model_module": "@jupyter-widgets/controls",
          "model_name": "HBoxModel",
          "model_module_version": "1.5.0",
          "state": {
            "_dom_classes": [],
            "_model_module": "@jupyter-widgets/controls",
            "_model_module_version": "1.5.0",
            "_model_name": "HBoxModel",
            "_view_count": null,
            "_view_module": "@jupyter-widgets/controls",
            "_view_module_version": "1.5.0",
            "_view_name": "HBoxView",
            "box_style": "",
            "children": [
              "IPY_MODEL_18d3ca6ec601457a90ede8ed487abdac",
              "IPY_MODEL_0ca38cf3149c4192821b4a9ff7e34a5f",
              "IPY_MODEL_de057a2105e047638ad2cd727f3da6c7"
            ],
            "layout": "IPY_MODEL_de6e365cec76465f86b0a72131e82038"
          }
        },
        "18d3ca6ec601457a90ede8ed487abdac": {
          "model_module": "@jupyter-widgets/controls",
          "model_name": "HTMLModel",
          "model_module_version": "1.5.0",
          "state": {
            "_dom_classes": [],
            "_model_module": "@jupyter-widgets/controls",
            "_model_module_version": "1.5.0",
            "_model_name": "HTMLModel",
            "_view_count": null,
            "_view_module": "@jupyter-widgets/controls",
            "_view_module_version": "1.5.0",
            "_view_name": "HTMLView",
            "description": "",
            "description_tooltip": null,
            "layout": "IPY_MODEL_bd13ec83737e4b45bd7d4a96dfe6b016",
            "placeholder": "​",
            "style": "IPY_MODEL_39f105c3c9c34dc4910fd906a9f1505a",
            "value": "Resolving data files:   0%"
          }
        },
        "0ca38cf3149c4192821b4a9ff7e34a5f": {
          "model_module": "@jupyter-widgets/controls",
          "model_name": "FloatProgressModel",
          "model_module_version": "1.5.0",
          "state": {
            "_dom_classes": [],
            "_model_module": "@jupyter-widgets/controls",
            "_model_module_version": "1.5.0",
            "_model_name": "FloatProgressModel",
            "_view_count": null,
            "_view_module": "@jupyter-widgets/controls",
            "_view_module_version": "1.5.0",
            "_view_name": "ProgressView",
            "bar_style": "",
            "description": "",
            "description_tooltip": null,
            "layout": "IPY_MODEL_0eaae400f6454c3f98f1ddd9efc6360a",
            "max": 40,
            "min": 0,
            "orientation": "horizontal",
            "style": "IPY_MODEL_771ab5e020234936abdb91e85fa0d961",
            "value": 0
          }
        },
        "de057a2105e047638ad2cd727f3da6c7": {
          "model_module": "@jupyter-widgets/controls",
          "model_name": "HTMLModel",
          "model_module_version": "1.5.0",
          "state": {
            "_dom_classes": [],
            "_model_module": "@jupyter-widgets/controls",
            "_model_module_version": "1.5.0",
            "_model_name": "HTMLModel",
            "_view_count": null,
            "_view_module": "@jupyter-widgets/controls",
            "_view_module_version": "1.5.0",
            "_view_name": "HTMLView",
            "description": "",
            "description_tooltip": null,
            "layout": "IPY_MODEL_1777aae4a2d84fdcbdb1acd0d5abaea4",
            "placeholder": "​",
            "style": "IPY_MODEL_2597c27e994b493a9948090743f2ee24",
            "value": " 0/40 [00:00&lt;?, ?it/s]"
          }
        },
        "de6e365cec76465f86b0a72131e82038": {
          "model_module": "@jupyter-widgets/base",
          "model_name": "LayoutModel",
          "model_module_version": "1.2.0",
          "state": {
            "_model_module": "@jupyter-widgets/base",
            "_model_module_version": "1.2.0",
            "_model_name": "LayoutModel",
            "_view_count": null,
            "_view_module": "@jupyter-widgets/base",
            "_view_module_version": "1.2.0",
            "_view_name": "LayoutView",
            "align_content": null,
            "align_items": null,
            "align_self": null,
            "border": null,
            "bottom": null,
            "display": null,
            "flex": null,
            "flex_flow": null,
            "grid_area": null,
            "grid_auto_columns": null,
            "grid_auto_flow": null,
            "grid_auto_rows": null,
            "grid_column": null,
            "grid_gap": null,
            "grid_row": null,
            "grid_template_areas": null,
            "grid_template_columns": null,
            "grid_template_rows": null,
            "height": null,
            "justify_content": null,
            "justify_items": null,
            "left": null,
            "margin": null,
            "max_height": null,
            "max_width": null,
            "min_height": null,
            "min_width": null,
            "object_fit": null,
            "object_position": null,
            "order": null,
            "overflow": null,
            "overflow_x": null,
            "overflow_y": null,
            "padding": null,
            "right": null,
            "top": null,
            "visibility": null,
            "width": null
          }
        },
        "bd13ec83737e4b45bd7d4a96dfe6b016": {
          "model_module": "@jupyter-widgets/base",
          "model_name": "LayoutModel",
          "model_module_version": "1.2.0",
          "state": {
            "_model_module": "@jupyter-widgets/base",
            "_model_module_version": "1.2.0",
            "_model_name": "LayoutModel",
            "_view_count": null,
            "_view_module": "@jupyter-widgets/base",
            "_view_module_version": "1.2.0",
            "_view_name": "LayoutView",
            "align_content": null,
            "align_items": null,
            "align_self": null,
            "border": null,
            "bottom": null,
            "display": null,
            "flex": null,
            "flex_flow": null,
            "grid_area": null,
            "grid_auto_columns": null,
            "grid_auto_flow": null,
            "grid_auto_rows": null,
            "grid_column": null,
            "grid_gap": null,
            "grid_row": null,
            "grid_template_areas": null,
            "grid_template_columns": null,
            "grid_template_rows": null,
            "height": null,
            "justify_content": null,
            "justify_items": null,
            "left": null,
            "margin": null,
            "max_height": null,
            "max_width": null,
            "min_height": null,
            "min_width": null,
            "object_fit": null,
            "object_position": null,
            "order": null,
            "overflow": null,
            "overflow_x": null,
            "overflow_y": null,
            "padding": null,
            "right": null,
            "top": null,
            "visibility": null,
            "width": null
          }
        },
        "39f105c3c9c34dc4910fd906a9f1505a": {
          "model_module": "@jupyter-widgets/controls",
          "model_name": "DescriptionStyleModel",
          "model_module_version": "1.5.0",
          "state": {
            "_model_module": "@jupyter-widgets/controls",
            "_model_module_version": "1.5.0",
            "_model_name": "DescriptionStyleModel",
            "_view_count": null,
            "_view_module": "@jupyter-widgets/base",
            "_view_module_version": "1.2.0",
            "_view_name": "StyleView",
            "description_width": ""
          }
        },
        "0eaae400f6454c3f98f1ddd9efc6360a": {
          "model_module": "@jupyter-widgets/base",
          "model_name": "LayoutModel",
          "model_module_version": "1.2.0",
          "state": {
            "_model_module": "@jupyter-widgets/base",
            "_model_module_version": "1.2.0",
            "_model_name": "LayoutModel",
            "_view_count": null,
            "_view_module": "@jupyter-widgets/base",
            "_view_module_version": "1.2.0",
            "_view_name": "LayoutView",
            "align_content": null,
            "align_items": null,
            "align_self": null,
            "border": null,
            "bottom": null,
            "display": null,
            "flex": null,
            "flex_flow": null,
            "grid_area": null,
            "grid_auto_columns": null,
            "grid_auto_flow": null,
            "grid_auto_rows": null,
            "grid_column": null,
            "grid_gap": null,
            "grid_row": null,
            "grid_template_areas": null,
            "grid_template_columns": null,
            "grid_template_rows": null,
            "height": null,
            "justify_content": null,
            "justify_items": null,
            "left": null,
            "margin": null,
            "max_height": null,
            "max_width": null,
            "min_height": null,
            "min_width": null,
            "object_fit": null,
            "object_position": null,
            "order": null,
            "overflow": null,
            "overflow_x": null,
            "overflow_y": null,
            "padding": null,
            "right": null,
            "top": null,
            "visibility": null,
            "width": null
          }
        },
        "771ab5e020234936abdb91e85fa0d961": {
          "model_module": "@jupyter-widgets/controls",
          "model_name": "ProgressStyleModel",
          "model_module_version": "1.5.0",
          "state": {
            "_model_module": "@jupyter-widgets/controls",
            "_model_module_version": "1.5.0",
            "_model_name": "ProgressStyleModel",
            "_view_count": null,
            "_view_module": "@jupyter-widgets/base",
            "_view_module_version": "1.2.0",
            "_view_name": "StyleView",
            "bar_color": null,
            "description_width": ""
          }
        },
        "1777aae4a2d84fdcbdb1acd0d5abaea4": {
          "model_module": "@jupyter-widgets/base",
          "model_name": "LayoutModel",
          "model_module_version": "1.2.0",
          "state": {
            "_model_module": "@jupyter-widgets/base",
            "_model_module_version": "1.2.0",
            "_model_name": "LayoutModel",
            "_view_count": null,
            "_view_module": "@jupyter-widgets/base",
            "_view_module_version": "1.2.0",
            "_view_name": "LayoutView",
            "align_content": null,
            "align_items": null,
            "align_self": null,
            "border": null,
            "bottom": null,
            "display": null,
            "flex": null,
            "flex_flow": null,
            "grid_area": null,
            "grid_auto_columns": null,
            "grid_auto_flow": null,
            "grid_auto_rows": null,
            "grid_column": null,
            "grid_gap": null,
            "grid_row": null,
            "grid_template_areas": null,
            "grid_template_columns": null,
            "grid_template_rows": null,
            "height": null,
            "justify_content": null,
            "justify_items": null,
            "left": null,
            "margin": null,
            "max_height": null,
            "max_width": null,
            "min_height": null,
            "min_width": null,
            "object_fit": null,
            "object_position": null,
            "order": null,
            "overflow": null,
            "overflow_x": null,
            "overflow_y": null,
            "padding": null,
            "right": null,
            "top": null,
            "visibility": null,
            "width": null
          }
        },
        "2597c27e994b493a9948090743f2ee24": {
          "model_module": "@jupyter-widgets/controls",
          "model_name": "DescriptionStyleModel",
          "model_module_version": "1.5.0",
          "state": {
            "_model_module": "@jupyter-widgets/controls",
            "_model_module_version": "1.5.0",
            "_model_name": "DescriptionStyleModel",
            "_view_count": null,
            "_view_module": "@jupyter-widgets/base",
            "_view_module_version": "1.2.0",
            "_view_name": "StyleView",
            "description_width": ""
          }
        }
      }
    }
  },
  "cells": [
    {
      "cell_type": "code",
      "source": [
        "!pip install chromadb datasets"
      ],
      "metadata": {
        "id": "rmTOfMeXknyj"
      },
      "execution_count": null,
      "outputs": []
    },
    {
      "cell_type": "code",
      "execution_count": 1,
      "metadata": {
        "id": "RazuaLB6kSAx"
      },
      "outputs": [],
      "source": [
        "import chromadb\n",
        "from chromadb.utils.embedding_functions import OpenCLIPEmbeddingFunction\n",
        "from chromadb.utils.data_loaders import ImageLoader\n",
        "\n",
        "import os\n",
        "from datasets import load_dataset\n",
        "from matplotlib import pyplot as plt"
      ]
    },
    {
      "cell_type": "markdown",
      "source": [
        "### Load dataset"
      ],
      "metadata": {
        "id": "5DH6a1BtkWET"
      }
    },
    {
      "cell_type": "code",
      "source": [
        "dataset = load_dataset(path=\"detection-datasets/coco\", name=\"coco\", split=\"train\", streaming=False)\n",
        "\n",
        "IMAGE_FOLDER = \"images\"\n",
        "N_IMAGES = 20\n",
        "\n",
        "plot_cols = 5\n",
        "plot_rows = N_IMAGES // plot_cols\n",
        "fig, axes = plt.subplot(plot_rows, plot_cols, figsize=(plot_rows*2, plot_cols*2))\n",
        "axes = axes.flatten()\n",
        "\n",
        "dataset_iter = iter(dataset)\n",
        "os.makedirs(IMAGE_FOLDER, exist_ok=True)\n",
        "\n",
        "for i in range(N_IMAGES):\n",
        "  image = next(dataset_iter)['image']\n",
        "  axes[i].imshow(image)\n",
        "  axes[i].axis(\"off\")\n",
        "\n",
        "  image.save(f\"image/{i}.jpg\")\n",
        "\n",
        "plt.tight_layout()\n",
        "plt.show()"
      ],
      "metadata": {
        "colab": {
          "base_uri": "https://localhost:8080/",
          "height": 49,
          "referenced_widgets": [
            "fd3f6095e253440084df50bbe75516af",
            "18d3ca6ec601457a90ede8ed487abdac",
            "0ca38cf3149c4192821b4a9ff7e34a5f",
            "de057a2105e047638ad2cd727f3da6c7",
            "de6e365cec76465f86b0a72131e82038",
            "bd13ec83737e4b45bd7d4a96dfe6b016",
            "39f105c3c9c34dc4910fd906a9f1505a",
            "0eaae400f6454c3f98f1ddd9efc6360a",
            "771ab5e020234936abdb91e85fa0d961",
            "1777aae4a2d84fdcbdb1acd0d5abaea4",
            "2597c27e994b493a9948090743f2ee24"
          ]
        },
        "id": "Z9Isyqj7lWdt",
        "outputId": "698d6714-a7fd-46a8-8460-469feb47e5a7"
      },
      "execution_count": null,
      "outputs": [
        {
          "output_type": "display_data",
          "data": {
            "text/plain": [
              "Resolving data files:   0%|          | 0/40 [00:00<?, ?it/s]"
            ],
            "application/vnd.jupyter.widget-view+json": {
              "version_major": 2,
              "version_minor": 0,
              "model_id": "fd3f6095e253440084df50bbe75516af"
            }
          },
          "metadata": {}
        }
      ]
    },
    {
      "cell_type": "code",
      "source": [
        "client = chromadb.Client()\n",
        "\n",
        "embedding_function = OpenCLIPEmbeddingFunction()\n",
        "image_loader = ImageLoader()"
      ],
      "metadata": {
        "id": "JdQXIfWHm63O"
      },
      "execution_count": null,
      "outputs": []
    },
    {
      "cell_type": "code",
      "source": [
        "collection = client.create_collection(\n",
        "    name=\"mutimodal_collection\",\n",
        "    embedding_function=embedding_function,\n",
        "    data_loader=image_loader\n",
        ")"
      ],
      "metadata": {
        "id": "zBgQeqmhnojW"
      },
      "execution_count": null,
      "outputs": []
    },
    {
      "cell_type": "code",
      "source": [
        "image_uris = sorted([os.path.join(IMAGE_FOLDER, image_name) for image_name in os.listdir(IMAGE_FOLDER)])\n",
        "ids = [str(i) for i in range(len(image_uris))]\n",
        "\n",
        "collection.add(ids=ids, uris=image_uris)"
      ],
      "metadata": {
        "id": "_IHX9Aytob1x"
      },
      "execution_count": null,
      "outputs": []
    },
    {
      "cell_type": "markdown",
      "source": [
        "### Querying a multi-modal collection"
      ],
      "metadata": {
        "id": "PEMp5Kngp27b"
      }
    },
    {
      "cell_type": "markdown",
      "source": [
        "Using text"
      ],
      "metadata": {
        "id": "eLKUpuu5s9JS"
      }
    },
    {
      "cell_type": "code",
      "source": [
        "### support imageshow function\n",
        "def display_result(retrived):\n",
        "  for img in retrived['data'][0]:\n",
        "    plt.imshow(img)\n",
        "    plt.axis(\"off\")\n",
        "    return plt.show()"
      ],
      "metadata": {
        "id": "xlrYJEU6p4L7"
      },
      "execution_count": null,
      "outputs": []
    },
    {
      "cell_type": "code",
      "source": [
        "# Querying for \"Animals\"\n",
        "retrived = collection.query(quert_text=[\"animals\"], include=['data'], n_results=3)\n",
        "\n",
        "display_result(retrived)"
      ],
      "metadata": {
        "id": "pxPwUUuCqlDj"
      },
      "execution_count": null,
      "outputs": []
    },
    {
      "cell_type": "code",
      "source": [
        "# Querying for \"Vehicles\"\n",
        "retrived = collection.query(quert_text=[\"Vehicles\"], include=['data'], n_results=3)\n",
        "\n",
        "display_result(retrived)"
      ],
      "metadata": {
        "id": "4Rv0h5TerW5y"
      },
      "execution_count": null,
      "outputs": []
    },
    {
      "cell_type": "code",
      "source": [
        "# Querying for \"Street Scenes\"\n",
        "retrived = collection.query(quert_text=[\"Street Scenes\"], include=['data'], n_results=3)\n",
        "\n",
        "display_result(retrived)"
      ],
      "metadata": {
        "id": "6fJNN1IUrc4W"
      },
      "execution_count": null,
      "outputs": []
    },
    {
      "cell_type": "markdown",
      "source": [
        "Using query image"
      ],
      "metadata": {
        "id": "01yDBFnLtDUo"
      }
    },
    {
      "cell_type": "code",
      "source": [
        "from PIL import Image\n",
        "import numpy as np\n",
        "\n",
        "query_image = np.array(Image.open(f\"{IMAGE_FOLDER}/1.jpg\"))\n",
        "print(\"Query Image\")\n",
        "plt.imshow(query_image)\n",
        "plt.axis('off')\n",
        "plt.show()\n",
        "\n",
        "print(\"Results\")\n",
        "retrieved = collection.query(query_images=[query_image], include=['data'], n_results=5)\n",
        "for img in retrieved['data'][0][1:]:\n",
        "    plt.imshow(img)\n",
        "    plt.axis(\"off\")\n",
        "    plt.show()"
      ],
      "metadata": {
        "id": "-HpCn-jStPlz"
      },
      "execution_count": null,
      "outputs": []
    },
    {
      "cell_type": "markdown",
      "source": [
        "Using query uris"
      ],
      "metadata": {
        "id": "MG4VaQzgtSsf"
      }
    },
    {
      "cell_type": "code",
      "source": [
        "query_uri = image_uris[1]\n",
        "\n",
        "query_result = collection.query(query_uris=query_uri, include=['data'], n_results=5)\n",
        "for img in query_result['data'][0][1:]:\n",
        "    plt.imshow(img)\n",
        "    plt.axis(\"off\")\n",
        "    plt.show()"
      ],
      "metadata": {
        "id": "sBwL-nSitVqD"
      },
      "execution_count": null,
      "outputs": []
    }
  ]
}