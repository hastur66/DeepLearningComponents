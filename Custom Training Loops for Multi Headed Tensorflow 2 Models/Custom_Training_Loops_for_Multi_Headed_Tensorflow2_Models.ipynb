{
 "cells": [
  {
   "cell_type": "code",
   "execution_count": 2,
   "id": "current-terrace",
   "metadata": {},
   "outputs": [],
   "source": [
    "from tensorflow import keras\n",
    "import tensorflow as tf\n",
    "import numpy as np"
   ]
  },
  {
   "cell_type": "markdown",
   "id": "dried-gossip",
   "metadata": {},
   "source": [
    "### multiheaded model"
   ]
  },
  {
   "cell_type": "code",
   "execution_count": 3,
   "id": "sustainable-northern",
   "metadata": {},
   "outputs": [],
   "source": [
    "inputs = keras.layers.Input(shape=(1,))\n",
    "\n",
    "backbone = keras.models.Sequential([keras.layers.Dense(4)])\n",
    "\n",
    "head1 = keras.models.Sequential([\n",
    "            keras.layers.Dense(4),\n",
    "            keras.layers.Dense(1)])\n",
    "\n",
    "head2 = keras.models.Sequential([\n",
    "            keras.layers.Dense(4),\n",
    "            keras.layers.Dense(1)])"
   ]
  },
  {
   "cell_type": "code",
   "execution_count": 4,
   "id": "pursuant-theory",
   "metadata": {},
   "outputs": [],
   "source": [
    "latent = backbone(inputs)\n",
    "output1 = head1(latent)\n",
    "output2 = head2(latent)"
   ]
  },
  {
   "cell_type": "code",
   "execution_count": 5,
   "id": "young-courage",
   "metadata": {},
   "outputs": [],
   "source": [
    "model = keras.models.Model(inputs=inputs, outputs=[output1, output2])"
   ]
  },
  {
   "cell_type": "code",
   "execution_count": 6,
   "id": "strange-range",
   "metadata": {},
   "outputs": [
    {
     "name": "stdout",
     "output_type": "stream",
     "text": [
      "Model: \"model\"\n",
      "__________________________________________________________________________________________________\n",
      "Layer (type)                    Output Shape         Param #     Connected to                     \n",
      "==================================================================================================\n",
      "input_1 (InputLayer)            [(None, 1)]          0                                            \n",
      "__________________________________________________________________________________________________\n",
      "sequential (Sequential)         (None, 4)            8           input_1[0][0]                    \n",
      "__________________________________________________________________________________________________\n",
      "sequential_1 (Sequential)       (None, 1)            25          sequential[0][0]                 \n",
      "__________________________________________________________________________________________________\n",
      "sequential_2 (Sequential)       (None, 1)            25          sequential[0][0]                 \n",
      "==================================================================================================\n",
      "Total params: 58\n",
      "Trainable params: 58\n",
      "Non-trainable params: 0\n",
      "__________________________________________________________________________________________________\n"
     ]
    }
   ],
   "source": [
    "model.summary()"
   ]
  },
  {
   "cell_type": "markdown",
   "id": "applicable-wonder",
   "metadata": {},
   "source": [
    "### Custom training loop"
   ]
  },
  {
   "cell_type": "code",
   "execution_count": 7,
   "id": "coordinate-target",
   "metadata": {},
   "outputs": [],
   "source": [
    "opt = keras.optimizers.Adam()"
   ]
  },
  {
   "cell_type": "code",
   "execution_count": 17,
   "id": "retained-breed",
   "metadata": {},
   "outputs": [],
   "source": [
    "from random import random\n",
    "\n",
    "losses = []\n",
    "\n",
    "for i in range(1000):\n",
    "    with tf.GradientTape() as tape:\n",
    "        inp = random()\n",
    "        \n",
    "        out1 = inp * 2\n",
    "        out2 = inp / 2\n",
    "        \n",
    "        pred1, pred2 = model(np.array([[inp]]))\n",
    "        \n",
    "        loss1 = (out1 - pred1)**2\n",
    "        loss2 = tf.math.abs(out2 - pred2)\n",
    "        \n",
    "        loss = loss1 + loss2\n",
    "        #print(loss)\n",
    "        losses.append(loss)\n",
    "        \n",
    "    gradients = tape.gradient(loss, tape.watched_variables())\n",
    "    opt.apply_gradients(zip(gradients, tape.watched_variables()))"
   ]
  },
  {
   "cell_type": "code",
   "execution_count": 19,
   "id": "blond-diversity",
   "metadata": {},
   "outputs": [
    {
     "data": {
      "text/plain": [
       "[<matplotlib.lines.Line2D at 0x7faf045aa7c0>]"
      ]
     },
     "execution_count": 19,
     "metadata": {},
     "output_type": "execute_result"
    },
    {
     "data": {
      "image/png": "[encoded data removed]",
      "text/plain": [
       "<Figure size 432x288 with 1 Axes>"
      ]
     },
     "metadata": {
      "needs_background": "light"
     },
     "output_type": "display_data"
    }
   ],
   "source": [
    "import matplotlib.pyplot as plt\n",
    "\n",
    "plt.plot([l[0] for l in losses])"
   ]
  },
  {
   "cell_type": "markdown",
   "id": "gross-trunk",
   "metadata": {},
   "source": [
    "### Adhoc Test"
   ]
  },
  {
   "cell_type": "code",
   "execution_count": 20,
   "id": "cellular-missile",
   "metadata": {},
   "outputs": [
    {
     "data": {
      "text/plain": [
       "[<tf.Tensor: shape=(1, 1), dtype=float32, numpy=array([[1.0004243]], dtype=float32)>,\n",
       " <tf.Tensor: shape=(1, 1), dtype=float32, numpy=array([[0.2505546]], dtype=float32)>]"
      ]
     },
     "execution_count": 20,
     "metadata": {},
     "output_type": "execute_result"
    }
   ],
   "source": [
    "model(np.array([0.5]))"
   ]
  },
  {
   "cell_type": "code",
   "execution_count": null,
   "id": "indonesian-surge",
   "metadata": {},
   "outputs": [],
   "source": []
  }
 ],
 "metadata": {
  "kernelspec": {
   "display_name": "Python [conda env:tf3] *",
   "language": "python",
   "name": "conda-env-tf3-py"
  },
  "language_info": {
   "codemirror_mode": {
    "name": "ipython",
    "version": 3
   },
   "file_extension": ".py",
   "mimetype": "text/x-python",
   "name": "python",
   "nbconvert_exporter": "python",
   "pygments_lexer": "ipython3",
   "version": "3.8.8"
  }
 },
 "nbformat": 4,
 "nbformat_minor": 5
}
